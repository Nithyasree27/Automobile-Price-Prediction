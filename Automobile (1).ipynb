{
 "cells": [
  {
   "cell_type": "code",
   "execution_count": 1,
   "id": "4c0517a1",
   "metadata": {},
   "outputs": [],
   "source": [
    "import pandas as pd\n",
    "from scipy import stats\n",
    "import matplotlib.pyplot as plt\n",
    "import seaborn as sns\n",
    "import statsmodels.api as sm\n",
    "from scipy import stats"
   ]
  },
  {
   "cell_type": "code",
   "execution_count": 2,
   "id": "440491b4",
   "metadata": {},
   "outputs": [],
   "source": [
    "auto=pd.read_csv(\"https://archive.ics.uci.edu/ml/machine-learning-databases/autos/imports-85.data\",header=None,na_values=\"?\")"
   ]
  },
  {
   "cell_type": "code",
   "execution_count": 3,
   "id": "667ccd56",
   "metadata": {},
   "outputs": [
    {
     "data": {
      "text/html": [
       "<div>\n",
       "<style scoped>\n",
       "    .dataframe tbody tr th:only-of-type {\n",
       "        vertical-align: middle;\n",
       "    }\n",
       "\n",
       "    .dataframe tbody tr th {\n",
       "        vertical-align: top;\n",
       "    }\n",
       "\n",
       "    .dataframe thead th {\n",
       "        text-align: right;\n",
       "    }\n",
       "</style>\n",
       "<table border=\"1\" class=\"dataframe\">\n",
       "  <thead>\n",
       "    <tr style=\"text-align: right;\">\n",
       "      <th></th>\n",
       "      <th>0</th>\n",
       "      <th>1</th>\n",
       "      <th>2</th>\n",
       "      <th>3</th>\n",
       "      <th>4</th>\n",
       "      <th>5</th>\n",
       "      <th>6</th>\n",
       "      <th>7</th>\n",
       "      <th>8</th>\n",
       "      <th>9</th>\n",
       "      <th>...</th>\n",
       "      <th>16</th>\n",
       "      <th>17</th>\n",
       "      <th>18</th>\n",
       "      <th>19</th>\n",
       "      <th>20</th>\n",
       "      <th>21</th>\n",
       "      <th>22</th>\n",
       "      <th>23</th>\n",
       "      <th>24</th>\n",
       "      <th>25</th>\n",
       "    </tr>\n",
       "  </thead>\n",
       "  <tbody>\n",
       "    <tr>\n",
       "      <th>0</th>\n",
       "      <td>3</td>\n",
       "      <td>NaN</td>\n",
       "      <td>alfa-romero</td>\n",
       "      <td>gas</td>\n",
       "      <td>std</td>\n",
       "      <td>two</td>\n",
       "      <td>convertible</td>\n",
       "      <td>rwd</td>\n",
       "      <td>front</td>\n",
       "      <td>88.6</td>\n",
       "      <td>...</td>\n",
       "      <td>130</td>\n",
       "      <td>mpfi</td>\n",
       "      <td>3.47</td>\n",
       "      <td>2.68</td>\n",
       "      <td>9.0</td>\n",
       "      <td>111.0</td>\n",
       "      <td>5000.0</td>\n",
       "      <td>21</td>\n",
       "      <td>27</td>\n",
       "      <td>13495.0</td>\n",
       "    </tr>\n",
       "    <tr>\n",
       "      <th>1</th>\n",
       "      <td>3</td>\n",
       "      <td>NaN</td>\n",
       "      <td>alfa-romero</td>\n",
       "      <td>gas</td>\n",
       "      <td>std</td>\n",
       "      <td>two</td>\n",
       "      <td>convertible</td>\n",
       "      <td>rwd</td>\n",
       "      <td>front</td>\n",
       "      <td>88.6</td>\n",
       "      <td>...</td>\n",
       "      <td>130</td>\n",
       "      <td>mpfi</td>\n",
       "      <td>3.47</td>\n",
       "      <td>2.68</td>\n",
       "      <td>9.0</td>\n",
       "      <td>111.0</td>\n",
       "      <td>5000.0</td>\n",
       "      <td>21</td>\n",
       "      <td>27</td>\n",
       "      <td>16500.0</td>\n",
       "    </tr>\n",
       "    <tr>\n",
       "      <th>2</th>\n",
       "      <td>1</td>\n",
       "      <td>NaN</td>\n",
       "      <td>alfa-romero</td>\n",
       "      <td>gas</td>\n",
       "      <td>std</td>\n",
       "      <td>two</td>\n",
       "      <td>hatchback</td>\n",
       "      <td>rwd</td>\n",
       "      <td>front</td>\n",
       "      <td>94.5</td>\n",
       "      <td>...</td>\n",
       "      <td>152</td>\n",
       "      <td>mpfi</td>\n",
       "      <td>2.68</td>\n",
       "      <td>3.47</td>\n",
       "      <td>9.0</td>\n",
       "      <td>154.0</td>\n",
       "      <td>5000.0</td>\n",
       "      <td>19</td>\n",
       "      <td>26</td>\n",
       "      <td>16500.0</td>\n",
       "    </tr>\n",
       "    <tr>\n",
       "      <th>3</th>\n",
       "      <td>2</td>\n",
       "      <td>164.0</td>\n",
       "      <td>audi</td>\n",
       "      <td>gas</td>\n",
       "      <td>std</td>\n",
       "      <td>four</td>\n",
       "      <td>sedan</td>\n",
       "      <td>fwd</td>\n",
       "      <td>front</td>\n",
       "      <td>99.8</td>\n",
       "      <td>...</td>\n",
       "      <td>109</td>\n",
       "      <td>mpfi</td>\n",
       "      <td>3.19</td>\n",
       "      <td>3.40</td>\n",
       "      <td>10.0</td>\n",
       "      <td>102.0</td>\n",
       "      <td>5500.0</td>\n",
       "      <td>24</td>\n",
       "      <td>30</td>\n",
       "      <td>13950.0</td>\n",
       "    </tr>\n",
       "    <tr>\n",
       "      <th>4</th>\n",
       "      <td>2</td>\n",
       "      <td>164.0</td>\n",
       "      <td>audi</td>\n",
       "      <td>gas</td>\n",
       "      <td>std</td>\n",
       "      <td>four</td>\n",
       "      <td>sedan</td>\n",
       "      <td>4wd</td>\n",
       "      <td>front</td>\n",
       "      <td>99.4</td>\n",
       "      <td>...</td>\n",
       "      <td>136</td>\n",
       "      <td>mpfi</td>\n",
       "      <td>3.19</td>\n",
       "      <td>3.40</td>\n",
       "      <td>8.0</td>\n",
       "      <td>115.0</td>\n",
       "      <td>5500.0</td>\n",
       "      <td>18</td>\n",
       "      <td>22</td>\n",
       "      <td>17450.0</td>\n",
       "    </tr>\n",
       "  </tbody>\n",
       "</table>\n",
       "<p>5 rows × 26 columns</p>\n",
       "</div>"
      ],
      "text/plain": [
       "   0      1            2    3    4     5            6    7      8     9   ...  \\\n",
       "0   3    NaN  alfa-romero  gas  std   two  convertible  rwd  front  88.6  ...   \n",
       "1   3    NaN  alfa-romero  gas  std   two  convertible  rwd  front  88.6  ...   \n",
       "2   1    NaN  alfa-romero  gas  std   two    hatchback  rwd  front  94.5  ...   \n",
       "3   2  164.0         audi  gas  std  four        sedan  fwd  front  99.8  ...   \n",
       "4   2  164.0         audi  gas  std  four        sedan  4wd  front  99.4  ...   \n",
       "\n",
       "    16    17    18    19    20     21      22  23  24       25  \n",
       "0  130  mpfi  3.47  2.68   9.0  111.0  5000.0  21  27  13495.0  \n",
       "1  130  mpfi  3.47  2.68   9.0  111.0  5000.0  21  27  16500.0  \n",
       "2  152  mpfi  2.68  3.47   9.0  154.0  5000.0  19  26  16500.0  \n",
       "3  109  mpfi  3.19  3.40  10.0  102.0  5500.0  24  30  13950.0  \n",
       "4  136  mpfi  3.19  3.40   8.0  115.0  5500.0  18  22  17450.0  \n",
       "\n",
       "[5 rows x 26 columns]"
      ]
     },
     "execution_count": 3,
     "metadata": {},
     "output_type": "execute_result"
    }
   ],
   "source": [
    "auto.head()"
   ]
  },
  {
   "cell_type": "code",
   "execution_count": 4,
   "id": "2f73a4db",
   "metadata": {},
   "outputs": [],
   "source": [
    "auto.columns=[\"symbol\",\"nor_loss\",\"make\",\"f_type\",\"aspr\",\"no_doors\",\"b_style\",\"wheel\",\"eng_loc\",\"w_base\",\"len\",\"wid\",\"ht\",\"c_wht\",\"e_type\",\"n_cylin\",\"e_size\",\"fuel_sys\",\"bore\",\"stroke\",\"cmp\",\"hpow\",\"rmp\",\"c_mpg\",\"h_mpg\",\"price\"]"
   ]
  },
  {
   "cell_type": "markdown",
   "id": "d37e5ab1",
   "metadata": {},
   "source": [
    "<h2>PERFORMING EDA</h2>"
   ]
  },
  {
   "cell_type": "markdown",
   "id": "76433e54",
   "metadata": {},
   "source": [
    "<h3> CHECKING FOR NULL VALUES </h3>"
   ]
  },
  {
   "cell_type": "code",
   "execution_count": 5,
   "id": "33c908fa",
   "metadata": {
    "scrolled": true
   },
   "outputs": [
    {
     "data": {
      "text/plain": [
       "symbol       0\n",
       "nor_loss    41\n",
       "make         0\n",
       "f_type       0\n",
       "aspr         0\n",
       "no_doors     2\n",
       "b_style      0\n",
       "wheel        0\n",
       "eng_loc      0\n",
       "w_base       0\n",
       "len          0\n",
       "wid          0\n",
       "ht           0\n",
       "c_wht        0\n",
       "e_type       0\n",
       "n_cylin      0\n",
       "e_size       0\n",
       "fuel_sys     0\n",
       "bore         4\n",
       "stroke       4\n",
       "cmp          0\n",
       "hpow         2\n",
       "rmp          2\n",
       "c_mpg        0\n",
       "h_mpg        0\n",
       "price        4\n",
       "dtype: int64"
      ]
     },
     "execution_count": 5,
     "metadata": {},
     "output_type": "execute_result"
    }
   ],
   "source": [
    "auto.isnull().sum()"
   ]
  },
  {
   "cell_type": "markdown",
   "id": "46c668c3",
   "metadata": {},
   "source": [
    "<h2> COLUMN 1- SYMBOLING (Discrete) </h2>"
   ]
  },
  {
   "cell_type": "code",
   "execution_count": 6,
   "id": "ee111e68",
   "metadata": {},
   "outputs": [
    {
     "data": {
      "text/plain": [
       "count    205.000000\n",
       "mean       0.834146\n",
       "std        1.245307\n",
       "min       -2.000000\n",
       "25%        0.000000\n",
       "50%        1.000000\n",
       "75%        2.000000\n",
       "max        3.000000\n",
       "Name: symbol, dtype: float64"
      ]
     },
     "execution_count": 6,
     "metadata": {},
     "output_type": "execute_result"
    }
   ],
   "source": [
    "auto.symbol.describe()"
   ]
  },
  {
   "cell_type": "code",
   "execution_count": 7,
   "id": "36cce858",
   "metadata": {},
   "outputs": [
    {
     "data": {
      "text/plain": [
       " 0    67\n",
       " 1    54\n",
       " 2    32\n",
       " 3    27\n",
       "-1    22\n",
       "-2     3\n",
       "Name: symbol, dtype: int64"
      ]
     },
     "execution_count": 7,
     "metadata": {},
     "output_type": "execute_result"
    }
   ],
   "source": [
    "auto.symbol.value_counts()"
   ]
  },
  {
   "cell_type": "code",
   "execution_count": 8,
   "id": "c12531d7",
   "metadata": {},
   "outputs": [
    {
     "data": {
      "text/plain": [
       "<AxesSubplot:xlabel='symbol', ylabel='count'>"
      ]
     },
     "execution_count": 8,
     "metadata": {},
     "output_type": "execute_result"
    },
    {
     "data": {
      "image/png": "[encoded data removed]",
      "text/plain": [
       "<Figure size 432x288 with 1 Axes>"
      ]
     },
     "metadata": {
      "needs_background": "light"
     },
     "output_type": "display_data"
    }
   ],
   "source": [
    "sns.countplot(x=\"symbol\",data=auto)"
   ]
  },
  {
   "cell_type": "code",
   "execution_count": 9,
   "id": "4657a3c7",
   "metadata": {},
   "outputs": [],
   "source": [
    "auto.symbol=auto.symbol.replace([-1,-2,-3],\">=-1\")"
   ]
  },
  {
   "cell_type": "code",
   "execution_count": 10,
   "id": "c464c771",
   "metadata": {},
   "outputs": [
    {
     "data": {
      "text/plain": [
       "<AxesSubplot:xlabel='symbol', ylabel='count'>"
      ]
     },
     "execution_count": 10,
     "metadata": {},
     "output_type": "execute_result"
    },
    {
     "data": {
      "image/png": "[encoded data removed]",
      "text/plain": [
       "<Figure size 432x288 with 1 Axes>"
      ]
     },
     "metadata": {
      "needs_background": "light"
     },
     "output_type": "display_data"
    }
   ],
   "source": [
    "sns.countplot(x=\"symbol\",data=auto,order=[\">=-1\",0,1,2,3])"
   ]
  },
  {
   "cell_type": "markdown",
   "id": "27dac00e",
   "metadata": {},
   "source": [
    "<h2>COLUMN 2- NORMALISED LOSSES (continuous)</h2>"
   ]
  },
  {
   "cell_type": "code",
   "execution_count": 11,
   "id": "13a085de",
   "metadata": {},
   "outputs": [
    {
     "data": {
      "text/plain": [
       "count    164.000000\n",
       "mean     122.000000\n",
       "std       35.442168\n",
       "min       65.000000\n",
       "25%       94.000000\n",
       "50%      115.000000\n",
       "75%      150.000000\n",
       "max      256.000000\n",
       "Name: nor_loss, dtype: float64"
      ]
     },
     "execution_count": 11,
     "metadata": {},
     "output_type": "execute_result"
    }
   ],
   "source": [
    "auto.nor_loss.describe()"
   ]
  },
  {
   "cell_type": "code",
   "execution_count": 12,
   "id": "ce4e5e4b",
   "metadata": {},
   "outputs": [
    {
     "data": {
      "text/plain": [
       "<AxesSubplot:>"
      ]
     },
     "execution_count": 12,
     "metadata": {},
     "output_type": "execute_result"
    },
    {
     "data": {
      "image/png": "[encoded data removed]",
      "text/plain": [
       "<Figure size 432x288 with 1 Axes>"
      ]
     },
     "metadata": {
      "needs_background": "light"
     },
     "output_type": "display_data"
    }
   ],
   "source": [
    "auto.nor_loss.hist()"
   ]
  },
  {
   "cell_type": "markdown",
   "id": "efc9fd90",
   "metadata": {},
   "source": [
    "<h3> -------------------------------------------------------<br>* Normalized losses has 41 null attributes.<br>* Filling the null values with their median</h3>\n",
    "<br><h3>Normalized losses is not normally distributed and it has outliers </h3>"
   ]
  },
  {
   "cell_type": "code",
   "execution_count": 13,
   "id": "9953d2ce",
   "metadata": {},
   "outputs": [],
   "source": [
    "auto.nor_loss.fillna(auto.nor_loss.median(),inplace=True)"
   ]
  },
  {
   "cell_type": "code",
   "execution_count": 14,
   "id": "dddd2f8f",
   "metadata": {},
   "outputs": [
    {
     "data": {
      "text/plain": [
       "ShapiroResult(statistic=0.9371652007102966, pvalue=9.691518698673462e-08)"
      ]
     },
     "execution_count": 14,
     "metadata": {},
     "output_type": "execute_result"
    }
   ],
   "source": [
    "stats.shapiro(auto.nor_loss)"
   ]
  },
  {
   "cell_type": "code",
   "execution_count": 15,
   "id": "b14b4014",
   "metadata": {},
   "outputs": [
    {
     "data": {
      "text/plain": [
       "{'whiskers': [<matplotlib.lines.Line2D at 0x1abc772b310>,\n",
       "  <matplotlib.lines.Line2D at 0x1abc772b5e0>],\n",
       " 'caps': [<matplotlib.lines.Line2D at 0x1abc772b970>,\n",
       "  <matplotlib.lines.Line2D at 0x1abc772bd00>],\n",
       " 'boxes': [<matplotlib.lines.Line2D at 0x1abc674ae80>],\n",
       " 'medians': [<matplotlib.lines.Line2D at 0x1abc77380d0>],\n",
       " 'fliers': [<matplotlib.lines.Line2D at 0x1abc7738460>],\n",
       " 'means': []}"
      ]
     },
     "execution_count": 15,
     "metadata": {},
     "output_type": "execute_result"
    },
    {
     "data": {
      "image/png": "[encoded data removed]",
      "text/plain": [
       "<Figure size 432x288 with 1 Axes>"
      ]
     },
     "metadata": {
      "needs_background": "light"
     },
     "output_type": "display_data"
    }
   ],
   "source": [
    "plt.boxplot(auto.nor_loss)"
   ]
  },
  {
   "cell_type": "markdown",
   "id": "f7d17e88",
   "metadata": {},
   "source": [
    "<h1>COLUMN 3- MANUFACTURER (Discrete)</h1>"
   ]
  },
  {
   "cell_type": "code",
   "execution_count": 16,
   "id": "0503877a",
   "metadata": {},
   "outputs": [
    {
     "data": {
      "text/plain": [
       "count        205\n",
       "unique        22\n",
       "top       toyota\n",
       "freq          32\n",
       "Name: make, dtype: object"
      ]
     },
     "execution_count": 16,
     "metadata": {},
     "output_type": "execute_result"
    }
   ],
   "source": [
    "auto.make.describe()"
   ]
  },
  {
   "cell_type": "code",
   "execution_count": 17,
   "id": "20fe9256",
   "metadata": {},
   "outputs": [
    {
     "data": {
      "text/plain": [
       "toyota           32\n",
       "nissan           18\n",
       "mazda            17\n",
       "mitsubishi       13\n",
       "honda            13\n",
       "volkswagen       12\n",
       "subaru           12\n",
       "peugot           11\n",
       "volvo            11\n",
       "dodge             9\n",
       "mercedes-benz     8\n",
       "bmw               8\n",
       "audi              7\n",
       "plymouth          7\n",
       "saab              6\n",
       "porsche           5\n",
       "isuzu             4\n",
       "jaguar            3\n",
       "chevrolet         3\n",
       "alfa-romero       3\n",
       "renault           2\n",
       "mercury           1\n",
       "Name: make, dtype: int64"
      ]
     },
     "execution_count": 17,
     "metadata": {},
     "output_type": "execute_result"
    }
   ],
   "source": [
    "auto.make.value_counts()"
   ]
  },
  {
   "cell_type": "code",
   "execution_count": 18,
   "id": "adc4e1df",
   "metadata": {},
   "outputs": [
    {
     "data": {
      "text/plain": [
       "<AxesSubplot:xlabel='make', ylabel='count'>"
      ]
     },
     "execution_count": 18,
     "metadata": {},
     "output_type": "execute_result"
    },
    {
     "data": {
      "image/png": "[encoded data removed]",
      "text/plain": [
       "<Figure size 2160x1080 with 1 Axes>"
      ]
     },
     "metadata": {
      "needs_background": "light"
     },
     "output_type": "display_data"
    }
   ],
   "source": [
    "plt.figure(figsize=(30,15))\n",
    "sns.countplot(x=\"make\",data=auto)"
   ]
  },
  {
   "cell_type": "markdown",
   "id": "501f9b76",
   "metadata": {},
   "source": [
    "<h1>COLUMN 4 - FUEL TYPE(Discrete)</h1>"
   ]
  },
  {
   "cell_type": "code",
   "execution_count": 19,
   "id": "16775864",
   "metadata": {},
   "outputs": [
    {
     "data": {
      "text/plain": [
       "count     205\n",
       "unique      2\n",
       "top       gas\n",
       "freq      185\n",
       "Name: f_type, dtype: object"
      ]
     },
     "execution_count": 19,
     "metadata": {},
     "output_type": "execute_result"
    }
   ],
   "source": [
    "auto.f_type.describe()"
   ]
  },
  {
   "cell_type": "code",
   "execution_count": 20,
   "id": "5e02a554",
   "metadata": {},
   "outputs": [
    {
     "data": {
      "text/plain": [
       "gas       185\n",
       "diesel     20\n",
       "Name: f_type, dtype: int64"
      ]
     },
     "execution_count": 20,
     "metadata": {},
     "output_type": "execute_result"
    }
   ],
   "source": [
    "auto.f_type.value_counts()"
   ]
  },
  {
   "cell_type": "code",
   "execution_count": 21,
   "id": "15aa37b1",
   "metadata": {},
   "outputs": [
    {
     "data": {
      "text/plain": [
       "<AxesSubplot:xlabel='f_type', ylabel='count'>"
      ]
     },
     "execution_count": 21,
     "metadata": {},
     "output_type": "execute_result"
    },
    {
     "data": {
      "image/png": "[encoded data removed]",
      "text/plain": [
       "<Figure size 432x288 with 1 Axes>"
      ]
     },
     "metadata": {
      "needs_background": "light"
     },
     "output_type": "display_data"
    }
   ],
   "source": [
    "sns.countplot(x=\"f_type\",data=auto)"
   ]
  },
  {
   "cell_type": "markdown",
   "id": "4bf56339",
   "metadata": {},
   "source": [
    "<h1>COLUMN 5- ASPIRATION (Discrete)</h1>"
   ]
  },
  {
   "cell_type": "code",
   "execution_count": 22,
   "id": "2ca2e784",
   "metadata": {},
   "outputs": [
    {
     "data": {
      "text/plain": [
       "count     205\n",
       "unique      2\n",
       "top       std\n",
       "freq      168\n",
       "Name: aspr, dtype: object"
      ]
     },
     "execution_count": 22,
     "metadata": {},
     "output_type": "execute_result"
    }
   ],
   "source": [
    "auto.aspr.describe()"
   ]
  },
  {
   "cell_type": "code",
   "execution_count": 23,
   "id": "1bae6d25",
   "metadata": {},
   "outputs": [
    {
     "data": {
      "text/plain": [
       "std      168\n",
       "turbo     37\n",
       "Name: aspr, dtype: int64"
      ]
     },
     "execution_count": 23,
     "metadata": {},
     "output_type": "execute_result"
    }
   ],
   "source": [
    "auto.aspr.value_counts()"
   ]
  },
  {
   "cell_type": "code",
   "execution_count": 24,
   "id": "27bc99b8",
   "metadata": {},
   "outputs": [
    {
     "data": {
      "text/plain": [
       "<AxesSubplot:xlabel='aspr', ylabel='count'>"
      ]
     },
     "execution_count": 24,
     "metadata": {},
     "output_type": "execute_result"
    },
    {
     "data": {
      "image/png": "[encoded data removed]",
      "text/plain": [
       "<Figure size 432x288 with 1 Axes>"
      ]
     },
     "metadata": {
      "needs_background": "light"
     },
     "output_type": "display_data"
    }
   ],
   "source": [
    "sns.countplot(x=\"aspr\",data=auto)"
   ]
  },
  {
   "cell_type": "markdown",
   "id": "0f17a810",
   "metadata": {},
   "source": [
    "<h1>COLUMN 6 - NUMBER OF DOORS (Discrete)</h1>"
   ]
  },
  {
   "cell_type": "code",
   "execution_count": 25,
   "id": "40b25cba",
   "metadata": {},
   "outputs": [
    {
     "data": {
      "text/plain": [
       "four    114\n",
       "two      89\n",
       "Name: no_doors, dtype: int64"
      ]
     },
     "execution_count": 25,
     "metadata": {},
     "output_type": "execute_result"
    }
   ],
   "source": [
    "auto.no_doors.value_counts()"
   ]
  },
  {
   "cell_type": "code",
   "execution_count": 26,
   "id": "9e590c98",
   "metadata": {},
   "outputs": [
    {
     "data": {
      "text/plain": [
       "count      203\n",
       "unique       2\n",
       "top       four\n",
       "freq       114\n",
       "Name: no_doors, dtype: object"
      ]
     },
     "execution_count": 26,
     "metadata": {},
     "output_type": "execute_result"
    }
   ],
   "source": [
    "auto.no_doors.describe()"
   ]
  },
  {
   "cell_type": "code",
   "execution_count": 27,
   "id": "3844b634",
   "metadata": {},
   "outputs": [
    {
     "data": {
      "text/plain": [
       "2"
      ]
     },
     "execution_count": 27,
     "metadata": {},
     "output_type": "execute_result"
    }
   ],
   "source": [
    "auto.no_doors.isnull().sum()"
   ]
  },
  {
   "cell_type": "markdown",
   "id": "e7578db1",
   "metadata": {},
   "source": [
    "<h3> It has null attributes, so replacing the null values with its mode.</h3>"
   ]
  },
  {
   "cell_type": "code",
   "execution_count": 28,
   "id": "fd23523c",
   "metadata": {},
   "outputs": [],
   "source": [
    "auto.no_doors.fillna(auto.no_doors.mode(),inplace=True)"
   ]
  },
  {
   "cell_type": "code",
   "execution_count": 29,
   "id": "788192cf",
   "metadata": {},
   "outputs": [
    {
     "data": {
      "text/plain": [
       "2"
      ]
     },
     "execution_count": 29,
     "metadata": {},
     "output_type": "execute_result"
    }
   ],
   "source": [
    "auto.no_doors.isnull().sum()"
   ]
  },
  {
   "cell_type": "code",
   "execution_count": 30,
   "id": "e7555c5f",
   "metadata": {},
   "outputs": [
    {
     "data": {
      "text/plain": [
       "count      203\n",
       "unique       2\n",
       "top       four\n",
       "freq       114\n",
       "Name: no_doors, dtype: object"
      ]
     },
     "execution_count": 30,
     "metadata": {},
     "output_type": "execute_result"
    }
   ],
   "source": [
    "auto.no_doors.describe()"
   ]
  },
  {
   "cell_type": "code",
   "execution_count": 31,
   "id": "73c4d08b",
   "metadata": {},
   "outputs": [
    {
     "data": {
      "text/plain": [
       "<AxesSubplot:xlabel='no_doors', ylabel='count'>"
      ]
     },
     "execution_count": 31,
     "metadata": {},
     "output_type": "execute_result"
    },
    {
     "data": {
      "image/png": "[encoded data removed]",
      "text/plain": [
       "<Figure size 432x288 with 1 Axes>"
      ]
     },
     "metadata": {
      "needs_background": "light"
     },
     "output_type": "display_data"
    }
   ],
   "source": [
    "sns.countplot(x=\"no_doors\",data=auto)"
   ]
  },
  {
   "cell_type": "markdown",
   "id": "9830fca7",
   "metadata": {},
   "source": [
    "<h1>COLUMN 7- BODY STYLE(Discrete)</h1>"
   ]
  },
  {
   "cell_type": "code",
   "execution_count": 32,
   "id": "934b9d82",
   "metadata": {},
   "outputs": [
    {
     "data": {
      "text/plain": [
       "sedan          96\n",
       "hatchback      70\n",
       "wagon          25\n",
       "hardtop         8\n",
       "convertible     6\n",
       "Name: b_style, dtype: int64"
      ]
     },
     "execution_count": 32,
     "metadata": {},
     "output_type": "execute_result"
    }
   ],
   "source": [
    "auto.b_style.value_counts()"
   ]
  },
  {
   "cell_type": "code",
   "execution_count": 33,
   "id": "b2bb8f69",
   "metadata": {},
   "outputs": [
    {
     "data": {
      "text/plain": [
       "count       205\n",
       "unique        5\n",
       "top       sedan\n",
       "freq         96\n",
       "Name: b_style, dtype: object"
      ]
     },
     "execution_count": 33,
     "metadata": {},
     "output_type": "execute_result"
    }
   ],
   "source": [
    "auto.b_style.describe()"
   ]
  },
  {
   "cell_type": "code",
   "execution_count": 34,
   "id": "04ddd2de",
   "metadata": {},
   "outputs": [
    {
     "data": {
      "text/plain": [
       "<AxesSubplot:xlabel='b_style', ylabel='count'>"
      ]
     },
     "execution_count": 34,
     "metadata": {},
     "output_type": "execute_result"
    },
    {
     "data": {
      "image/png": "[encoded data removed]",
      "text/plain": [
       "<Figure size 432x288 with 1 Axes>"
      ]
     },
     "metadata": {
      "needs_background": "light"
     },
     "output_type": "display_data"
    }
   ],
   "source": [
    "sns.countplot(x=\"b_style\",data=auto)"
   ]
  },
  {
   "cell_type": "markdown",
   "id": "122fe4c3",
   "metadata": {},
   "source": [
    "<h1>COLUMN 8 -DRIVE WHEELS(Discrete)</h1>"
   ]
  },
  {
   "cell_type": "code",
   "execution_count": 35,
   "id": "b21a21c8",
   "metadata": {},
   "outputs": [
    {
     "data": {
      "text/plain": [
       "count     205\n",
       "unique      3\n",
       "top       fwd\n",
       "freq      120\n",
       "Name: wheel, dtype: object"
      ]
     },
     "execution_count": 35,
     "metadata": {},
     "output_type": "execute_result"
    }
   ],
   "source": [
    "auto.wheel.describe()"
   ]
  },
  {
   "cell_type": "code",
   "execution_count": 36,
   "id": "1dbefadf",
   "metadata": {},
   "outputs": [
    {
     "data": {
      "text/plain": [
       "fwd    120\n",
       "rwd     76\n",
       "4wd      9\n",
       "Name: wheel, dtype: int64"
      ]
     },
     "execution_count": 36,
     "metadata": {},
     "output_type": "execute_result"
    }
   ],
   "source": [
    "auto.wheel.value_counts()"
   ]
  },
  {
   "cell_type": "code",
   "execution_count": 37,
   "id": "0889ed86",
   "metadata": {},
   "outputs": [
    {
     "data": {
      "text/plain": [
       "<AxesSubplot:xlabel='wheel', ylabel='count'>"
      ]
     },
     "execution_count": 37,
     "metadata": {},
     "output_type": "execute_result"
    },
    {
     "data": {
      "image/png": "[encoded data removed]",
      "text/plain": [
       "<Figure size 432x288 with 1 Axes>"
      ]
     },
     "metadata": {
      "needs_background": "light"
     },
     "output_type": "display_data"
    }
   ],
   "source": [
    "sns.countplot(x=\"wheel\",data=auto)"
   ]
  },
  {
   "cell_type": "markdown",
   "id": "bfb5dadf",
   "metadata": {},
   "source": [
    "<h1>COLUMN 9 -ENGINE LOCATION(Discrete)</h1>"
   ]
  },
  {
   "cell_type": "code",
   "execution_count": 38,
   "id": "fdba16e3",
   "metadata": {},
   "outputs": [
    {
     "data": {
      "text/plain": [
       "count       205\n",
       "unique        2\n",
       "top       front\n",
       "freq        202\n",
       "Name: eng_loc, dtype: object"
      ]
     },
     "execution_count": 38,
     "metadata": {},
     "output_type": "execute_result"
    }
   ],
   "source": [
    "auto.eng_loc.describe()"
   ]
  },
  {
   "cell_type": "code",
   "execution_count": 39,
   "id": "313f22d9",
   "metadata": {},
   "outputs": [
    {
     "data": {
      "text/plain": [
       "front    202\n",
       "rear       3\n",
       "Name: eng_loc, dtype: int64"
      ]
     },
     "execution_count": 39,
     "metadata": {},
     "output_type": "execute_result"
    }
   ],
   "source": [
    "auto.eng_loc.value_counts()"
   ]
  },
  {
   "cell_type": "code",
   "execution_count": 40,
   "id": "e8cd97ea",
   "metadata": {},
   "outputs": [
    {
     "data": {
      "text/plain": [
       "<AxesSubplot:xlabel='eng_loc', ylabel='count'>"
      ]
     },
     "execution_count": 40,
     "metadata": {},
     "output_type": "execute_result"
    },
    {
     "data": {
      "image/png": "[encoded data removed]",
      "text/plain": [
       "<Figure size 432x288 with 1 Axes>"
      ]
     },
     "metadata": {
      "needs_background": "light"
     },
     "output_type": "display_data"
    }
   ],
   "source": [
    "sns.countplot(x=\"eng_loc\",data=auto)"
   ]
  },
  {
   "cell_type": "markdown",
   "id": "3743e36a",
   "metadata": {},
   "source": [
    "<h1>COLUMN 10- WHEEL BASE (Continuous)</h1>"
   ]
  },
  {
   "cell_type": "code",
   "execution_count": 41,
   "id": "5cb64b7e",
   "metadata": {},
   "outputs": [
    {
     "data": {
      "text/plain": [
       "count    205.000000\n",
       "mean      98.756585\n",
       "std        6.021776\n",
       "min       86.600000\n",
       "25%       94.500000\n",
       "50%       97.000000\n",
       "75%      102.400000\n",
       "max      120.900000\n",
       "Name: w_base, dtype: float64"
      ]
     },
     "execution_count": 41,
     "metadata": {},
     "output_type": "execute_result"
    }
   ],
   "source": [
    "auto.w_base.describe()"
   ]
  },
  {
   "cell_type": "code",
   "execution_count": 42,
   "id": "af304dd1",
   "metadata": {},
   "outputs": [
    {
     "data": {
      "text/plain": [
       "<AxesSubplot:>"
      ]
     },
     "execution_count": 42,
     "metadata": {},
     "output_type": "execute_result"
    },
    {
     "data": {
      "image/png": "[encoded data removed]",
      "text/plain": [
       "<Figure size 432x288 with 1 Axes>"
      ]
     },
     "metadata": {
      "needs_background": "light"
     },
     "output_type": "display_data"
    }
   ],
   "source": [
    "auto.w_base.hist()"
   ]
  },
  {
   "cell_type": "code",
   "execution_count": 43,
   "id": "f48ce290",
   "metadata": {},
   "outputs": [
    {
     "data": {
      "text/plain": [
       "ShapiroResult(statistic=0.9115860462188721, pvalue=1.0368441660801864e-09)"
      ]
     },
     "execution_count": 43,
     "metadata": {},
     "output_type": "execute_result"
    }
   ],
   "source": [
    "stats.shapiro(auto.w_base)"
   ]
  },
  {
   "cell_type": "markdown",
   "id": "68d2d846",
   "metadata": {},
   "source": [
    "<h3>It is not normally distributed and it has outliers </h3>"
   ]
  },
  {
   "cell_type": "code",
   "execution_count": 44,
   "id": "f050e983",
   "metadata": {},
   "outputs": [
    {
     "data": {
      "text/plain": [
       "{'whiskers': [<matplotlib.lines.Line2D at 0x1abc7af5e80>,\n",
       "  <matplotlib.lines.Line2D at 0x1abc7b05250>],\n",
       " 'caps': [<matplotlib.lines.Line2D at 0x1abc7b055e0>,\n",
       "  <matplotlib.lines.Line2D at 0x1abc7b05970>],\n",
       " 'boxes': [<matplotlib.lines.Line2D at 0x1abc7af5ac0>],\n",
       " 'medians': [<matplotlib.lines.Line2D at 0x1abc7b05d00>],\n",
       " 'fliers': [<matplotlib.lines.Line2D at 0x1abc7b100d0>],\n",
       " 'means': []}"
      ]
     },
     "execution_count": 44,
     "metadata": {},
     "output_type": "execute_result"
    },
    {
     "data": {
      "image/png": "[encoded data removed]",
      "text/plain": [
       "<Figure size 432x288 with 1 Axes>"
      ]
     },
     "metadata": {
      "needs_background": "light"
     },
     "output_type": "display_data"
    }
   ],
   "source": [
    "plt.boxplot(auto.w_base)"
   ]
  },
  {
   "cell_type": "markdown",
   "id": "c6c6bfd1",
   "metadata": {},
   "source": [
    "<h1>COLUMN 11 - LENGTH (Continuous)</h1>"
   ]
  },
  {
   "cell_type": "code",
   "execution_count": 45,
   "id": "5cabc8f7",
   "metadata": {},
   "outputs": [
    {
     "data": {
      "text/plain": [
       "count    205.000000\n",
       "mean     174.049268\n",
       "std       12.337289\n",
       "min      141.100000\n",
       "25%      166.300000\n",
       "50%      173.200000\n",
       "75%      183.100000\n",
       "max      208.100000\n",
       "Name: len, dtype: float64"
      ]
     },
     "execution_count": 45,
     "metadata": {},
     "output_type": "execute_result"
    }
   ],
   "source": [
    "auto.len.describe()"
   ]
  },
  {
   "cell_type": "code",
   "execution_count": 46,
   "id": "7df14cc1",
   "metadata": {},
   "outputs": [
    {
     "data": {
      "text/plain": [
       "<AxesSubplot:>"
      ]
     },
     "execution_count": 46,
     "metadata": {},
     "output_type": "execute_result"
    },
    {
     "data": {
      "image/png": "[encoded data removed]",
      "text/plain": [
       "<Figure size 432x288 with 1 Axes>"
      ]
     },
     "metadata": {
      "needs_background": "light"
     },
     "output_type": "display_data"
    }
   ],
   "source": [
    "auto.len.hist()"
   ]
  },
  {
   "cell_type": "code",
   "execution_count": 47,
   "id": "1d2dfa77",
   "metadata": {},
   "outputs": [
    {
     "data": {
      "text/plain": [
       "ShapiroResult(statistic=0.9820953607559204, pvalue=0.01036272943019867)"
      ]
     },
     "execution_count": 47,
     "metadata": {},
     "output_type": "execute_result"
    }
   ],
   "source": [
    "stats.shapiro(auto.len)"
   ]
  },
  {
   "cell_type": "markdown",
   "id": "368748ec",
   "metadata": {},
   "source": [
    "<h3>It is not normally distributed and it has outliers </h3>"
   ]
  },
  {
   "cell_type": "code",
   "execution_count": 48,
   "id": "0aa7df3d",
   "metadata": {},
   "outputs": [
    {
     "data": {
      "text/plain": [
       "{'whiskers': [<matplotlib.lines.Line2D at 0x1abc7bef520>,\n",
       "  <matplotlib.lines.Line2D at 0x1abc7bef8b0>],\n",
       " 'caps': [<matplotlib.lines.Line2D at 0x1abc7befc40>,\n",
       "  <matplotlib.lines.Line2D at 0x1abc7beffd0>],\n",
       " 'boxes': [<matplotlib.lines.Line2D at 0x1abc7bef160>],\n",
       " 'medians': [<matplotlib.lines.Line2D at 0x1abc7bfa3a0>],\n",
       " 'fliers': [<matplotlib.lines.Line2D at 0x1abc7bfa730>],\n",
       " 'means': []}"
      ]
     },
     "execution_count": 48,
     "metadata": {},
     "output_type": "execute_result"
    },
    {
     "data": {
      "image/png": "[encoded data removed]",
      "text/plain": [
       "<Figure size 432x288 with 1 Axes>"
      ]
     },
     "metadata": {
      "needs_background": "light"
     },
     "output_type": "display_data"
    }
   ],
   "source": [
    "plt.boxplot(auto.len)"
   ]
  },
  {
   "cell_type": "markdown",
   "id": "5b19434c",
   "metadata": {},
   "source": [
    "<h1>COLUMN 12 - WIDTH (Continuous)</h1>"
   ]
  },
  {
   "cell_type": "code",
   "execution_count": 49,
   "id": "f38699e3",
   "metadata": {},
   "outputs": [
    {
     "data": {
      "text/plain": [
       "count    205.000000\n",
       "mean      65.907805\n",
       "std        2.145204\n",
       "min       60.300000\n",
       "25%       64.100000\n",
       "50%       65.500000\n",
       "75%       66.900000\n",
       "max       72.300000\n",
       "Name: wid, dtype: float64"
      ]
     },
     "execution_count": 49,
     "metadata": {},
     "output_type": "execute_result"
    }
   ],
   "source": [
    "auto.wid.describe()"
   ]
  },
  {
   "cell_type": "code",
   "execution_count": 50,
   "id": "58d12da8",
   "metadata": {},
   "outputs": [
    {
     "data": {
      "text/plain": [
       "<AxesSubplot:>"
      ]
     },
     "execution_count": 50,
     "metadata": {},
     "output_type": "execute_result"
    },
    {
     "data": {
      "image/png": "[encoded data removed]",
      "text/plain": [
       "<Figure size 432x288 with 1 Axes>"
      ]
     },
     "metadata": {
      "needs_background": "light"
     },
     "output_type": "display_data"
    }
   ],
   "source": [
    "auto.wid.hist()"
   ]
  },
  {
   "cell_type": "code",
   "execution_count": 51,
   "id": "07f312de",
   "metadata": {},
   "outputs": [
    {
     "data": {
      "text/plain": [
       "ShapiroResult(statistic=0.9210780262947083, pvalue=5.012857240416224e-09)"
      ]
     },
     "execution_count": 51,
     "metadata": {},
     "output_type": "execute_result"
    }
   ],
   "source": [
    "stats.shapiro(auto.wid)"
   ]
  },
  {
   "cell_type": "markdown",
   "id": "884348b6",
   "metadata": {},
   "source": [
    "<h3>It is not normally distributed and it has outliers </h3>"
   ]
  },
  {
   "cell_type": "code",
   "execution_count": 52,
   "id": "2a4361a7",
   "metadata": {},
   "outputs": [
    {
     "data": {
      "text/plain": [
       "{'whiskers': [<matplotlib.lines.Line2D at 0x1abc7cd4df0>,\n",
       "  <matplotlib.lines.Line2D at 0x1abc7ce21c0>],\n",
       " 'caps': [<matplotlib.lines.Line2D at 0x1abc7ce2550>,\n",
       "  <matplotlib.lines.Line2D at 0x1abc7ce28e0>],\n",
       " 'boxes': [<matplotlib.lines.Line2D at 0x1abc7cd4a60>],\n",
       " 'medians': [<matplotlib.lines.Line2D at 0x1abc7ce2c70>],\n",
       " 'fliers': [<matplotlib.lines.Line2D at 0x1abc7cef040>],\n",
       " 'means': []}"
      ]
     },
     "execution_count": 52,
     "metadata": {},
     "output_type": "execute_result"
    },
    {
     "data": {
      "image/png": "[encoded data removed]",
      "text/plain": [
       "<Figure size 432x288 with 1 Axes>"
      ]
     },
     "metadata": {
      "needs_background": "light"
     },
     "output_type": "display_data"
    }
   ],
   "source": [
    "plt.boxplot(auto.wid)"
   ]
  },
  {
   "cell_type": "markdown",
   "id": "f64b8b85",
   "metadata": {},
   "source": [
    "<h1>COLUMN 13 - HEIGHT(Continuous)</h1>"
   ]
  },
  {
   "cell_type": "code",
   "execution_count": 53,
   "id": "25839e3f",
   "metadata": {},
   "outputs": [
    {
     "data": {
      "text/plain": [
       "count    205.000000\n",
       "mean      53.724878\n",
       "std        2.443522\n",
       "min       47.800000\n",
       "25%       52.000000\n",
       "50%       54.100000\n",
       "75%       55.500000\n",
       "max       59.800000\n",
       "Name: ht, dtype: float64"
      ]
     },
     "execution_count": 53,
     "metadata": {},
     "output_type": "execute_result"
    }
   ],
   "source": [
    "auto.ht.describe()"
   ]
  },
  {
   "cell_type": "code",
   "execution_count": 54,
   "id": "ceaeea44",
   "metadata": {},
   "outputs": [
    {
     "data": {
      "text/plain": [
       "<AxesSubplot:>"
      ]
     },
     "execution_count": 54,
     "metadata": {},
     "output_type": "execute_result"
    },
    {
     "data": {
      "image/png": "[encoded data removed]",
      "text/plain": [
       "<Figure size 432x288 with 1 Axes>"
      ]
     },
     "metadata": {
      "needs_background": "light"
     },
     "output_type": "display_data"
    }
   ],
   "source": [
    "auto.ht.hist()"
   ]
  },
  {
   "cell_type": "code",
   "execution_count": 55,
   "id": "70cbac69",
   "metadata": {},
   "outputs": [
    {
     "data": {
      "text/plain": [
       "ShapiroResult(statistic=0.9842321276664734, pvalue=0.021682262420654297)"
      ]
     },
     "execution_count": 55,
     "metadata": {},
     "output_type": "execute_result"
    }
   ],
   "source": [
    "stats.shapiro(auto.ht)"
   ]
  },
  {
   "cell_type": "markdown",
   "id": "7a42f067",
   "metadata": {},
   "source": [
    "<h3>It is not normally distributed.</h3>"
   ]
  },
  {
   "cell_type": "code",
   "execution_count": 56,
   "id": "42ef025e",
   "metadata": {},
   "outputs": [
    {
     "data": {
      "text/plain": [
       "{'whiskers': [<matplotlib.lines.Line2D at 0x1abc7dc9b20>,\n",
       "  <matplotlib.lines.Line2D at 0x1abc7dc9eb0>],\n",
       " 'caps': [<matplotlib.lines.Line2D at 0x1abc7dd9280>,\n",
       "  <matplotlib.lines.Line2D at 0x1abc7dd9610>],\n",
       " 'boxes': [<matplotlib.lines.Line2D at 0x1abc7dc97f0>],\n",
       " 'medians': [<matplotlib.lines.Line2D at 0x1abc7dd99a0>],\n",
       " 'fliers': [<matplotlib.lines.Line2D at 0x1abc7dd9d30>],\n",
       " 'means': []}"
      ]
     },
     "execution_count": 56,
     "metadata": {},
     "output_type": "execute_result"
    },
    {
     "data": {
      "image/png": "[encoded data removed]",
      "text/plain": [
       "<Figure size 432x288 with 1 Axes>"
      ]
     },
     "metadata": {
      "needs_background": "light"
     },
     "output_type": "display_data"
    }
   ],
   "source": [
    "plt.boxplot(auto.ht)"
   ]
  },
  {
   "cell_type": "markdown",
   "id": "917f738d",
   "metadata": {},
   "source": [
    "<h1>COLUMN 14 - CURB WEIGHT(Continuous)</h1>"
   ]
  },
  {
   "cell_type": "code",
   "execution_count": 57,
   "id": "51b42ce8",
   "metadata": {},
   "outputs": [
    {
     "data": {
      "text/plain": [
       "count     205.000000\n",
       "mean     2555.565854\n",
       "std       520.680204\n",
       "min      1488.000000\n",
       "25%      2145.000000\n",
       "50%      2414.000000\n",
       "75%      2935.000000\n",
       "max      4066.000000\n",
       "Name: c_wht, dtype: float64"
      ]
     },
     "execution_count": 57,
     "metadata": {},
     "output_type": "execute_result"
    }
   ],
   "source": [
    "auto.c_wht.describe()"
   ]
  },
  {
   "cell_type": "code",
   "execution_count": 58,
   "id": "04b614a5",
   "metadata": {},
   "outputs": [
    {
     "data": {
      "text/plain": [
       "<AxesSubplot:>"
      ]
     },
     "execution_count": 58,
     "metadata": {},
     "output_type": "execute_result"
    },
    {
     "data": {
      "image/png": "[encoded data removed]",
      "text/plain": [
       "<Figure size 432x288 with 1 Axes>"
      ]
     },
     "metadata": {
      "needs_background": "light"
     },
     "output_type": "display_data"
    }
   ],
   "source": [
    "auto.c_wht.hist()"
   ]
  },
  {
   "cell_type": "code",
   "execution_count": 59,
   "id": "32107158",
   "metadata": {},
   "outputs": [
    {
     "data": {
      "text/plain": [
       "ShapiroResult(statistic=0.9530424475669861, pvalue=2.8916113024024526e-06)"
      ]
     },
     "execution_count": 59,
     "metadata": {},
     "output_type": "execute_result"
    }
   ],
   "source": [
    "stats.shapiro(auto.c_wht)"
   ]
  },
  {
   "cell_type": "markdown",
   "id": "8573a2f8",
   "metadata": {},
   "source": [
    "<h3>It is not normally distributed.</h3>"
   ]
  },
  {
   "cell_type": "code",
   "execution_count": 60,
   "id": "ca1cafab",
   "metadata": {},
   "outputs": [
    {
     "data": {
      "text/plain": [
       "{'whiskers': [<matplotlib.lines.Line2D at 0x1abc7ebb100>,\n",
       "  <matplotlib.lines.Line2D at 0x1abc7ebb490>],\n",
       " 'caps': [<matplotlib.lines.Line2D at 0x1abc7ebb820>,\n",
       "  <matplotlib.lines.Line2D at 0x1abc7ebbbb0>],\n",
       " 'boxes': [<matplotlib.lines.Line2D at 0x1abc7eacd30>],\n",
       " 'medians': [<matplotlib.lines.Line2D at 0x1abc7ebbf40>],\n",
       " 'fliers': [<matplotlib.lines.Line2D at 0x1abc7ec6310>],\n",
       " 'means': []}"
      ]
     },
     "execution_count": 60,
     "metadata": {},
     "output_type": "execute_result"
    },
    {
     "data": {
      "image/png": "[encoded data removed]",
      "text/plain": [
       "<Figure size 432x288 with 1 Axes>"
      ]
     },
     "metadata": {
      "needs_background": "light"
     },
     "output_type": "display_data"
    }
   ],
   "source": [
    "plt.boxplot(auto.c_wht)"
   ]
  },
  {
   "cell_type": "markdown",
   "id": "3d4297c2",
   "metadata": {},
   "source": [
    "<h1>COLUMN 15 - ENGINE TYPE (Discrete)</h1>"
   ]
  },
  {
   "cell_type": "code",
   "execution_count": 61,
   "id": "f2babe7f",
   "metadata": {},
   "outputs": [
    {
     "data": {
      "text/plain": [
       "count     205\n",
       "unique      7\n",
       "top       ohc\n",
       "freq      148\n",
       "Name: e_type, dtype: object"
      ]
     },
     "execution_count": 61,
     "metadata": {},
     "output_type": "execute_result"
    }
   ],
   "source": [
    "auto.e_type.describe()"
   ]
  },
  {
   "cell_type": "code",
   "execution_count": 62,
   "id": "d3d3619b",
   "metadata": {},
   "outputs": [
    {
     "data": {
      "text/plain": [
       "ohc      148\n",
       "ohcf      15\n",
       "ohcv      13\n",
       "dohc      12\n",
       "l         12\n",
       "rotor      4\n",
       "dohcv      1\n",
       "Name: e_type, dtype: int64"
      ]
     },
     "execution_count": 62,
     "metadata": {},
     "output_type": "execute_result"
    }
   ],
   "source": [
    "auto.e_type.value_counts()"
   ]
  },
  {
   "cell_type": "code",
   "execution_count": 63,
   "id": "07a731fb",
   "metadata": {},
   "outputs": [
    {
     "data": {
      "text/plain": [
       "<AxesSubplot:xlabel='e_type', ylabel='count'>"
      ]
     },
     "execution_count": 63,
     "metadata": {},
     "output_type": "execute_result"
    },
    {
     "data": {
      "image/png": "[encoded data removed]",
      "text/plain": [
       "<Figure size 432x288 with 1 Axes>"
      ]
     },
     "metadata": {
      "needs_background": "light"
     },
     "output_type": "display_data"
    }
   ],
   "source": [
    "sns.countplot(x=\"e_type\",data=auto)"
   ]
  },
  {
   "cell_type": "markdown",
   "id": "a1c14f4d",
   "metadata": {},
   "source": [
    "<h1>COLUMN 16 - NUMBER OF CYLINDERS(Discrete)</h1>"
   ]
  },
  {
   "cell_type": "code",
   "execution_count": 64,
   "id": "dc94d1e6",
   "metadata": {},
   "outputs": [
    {
     "data": {
      "text/plain": [
       "count      205\n",
       "unique       7\n",
       "top       four\n",
       "freq       159\n",
       "Name: n_cylin, dtype: object"
      ]
     },
     "execution_count": 64,
     "metadata": {},
     "output_type": "execute_result"
    }
   ],
   "source": [
    "auto.n_cylin.describe()"
   ]
  },
  {
   "cell_type": "code",
   "execution_count": 65,
   "id": "6bfd1251",
   "metadata": {},
   "outputs": [
    {
     "data": {
      "text/plain": [
       "four      159\n",
       "six        24\n",
       "five       11\n",
       "eight       5\n",
       "two         4\n",
       "three       1\n",
       "twelve      1\n",
       "Name: n_cylin, dtype: int64"
      ]
     },
     "execution_count": 65,
     "metadata": {},
     "output_type": "execute_result"
    }
   ],
   "source": [
    "auto.n_cylin.value_counts()"
   ]
  },
  {
   "cell_type": "code",
   "execution_count": 66,
   "id": "3c5b3c59",
   "metadata": {},
   "outputs": [
    {
     "data": {
      "text/plain": [
       "<AxesSubplot:xlabel='n_cylin', ylabel='count'>"
      ]
     },
     "execution_count": 66,
     "metadata": {},
     "output_type": "execute_result"
    },
    {
     "data": {
      "image/png": "[encoded data removed]",
      "text/plain": [
       "<Figure size 432x288 with 1 Axes>"
      ]
     },
     "metadata": {
      "needs_background": "light"
     },
     "output_type": "display_data"
    }
   ],
   "source": [
    "sns.countplot(x=\"n_cylin\",data=auto,order=[\"two\",\"three\",\"four\",\"five\",\"six\",\"eight\",\"twelve\"])"
   ]
  },
  {
   "cell_type": "markdown",
   "id": "f942f1c9",
   "metadata": {},
   "source": [
    "<h4>Combining values</h4>"
   ]
  },
  {
   "cell_type": "code",
   "execution_count": 67,
   "id": "1431f038",
   "metadata": {},
   "outputs": [],
   "source": [
    "auto.n_cylin=auto.n_cylin.replace([\"two\",\"three\",\"four\"],\"four and below\")\n",
    "auto.n_cylin=auto.n_cylin.replace([\"five\",\"six\",\"eight\",\"twelve\"],\"five and above\")"
   ]
  },
  {
   "cell_type": "code",
   "execution_count": 68,
   "id": "0394d168",
   "metadata": {},
   "outputs": [
    {
     "data": {
      "text/plain": [
       "<AxesSubplot:xlabel='n_cylin', ylabel='count'>"
      ]
     },
     "execution_count": 68,
     "metadata": {},
     "output_type": "execute_result"
    },
    {
     "data": {
      "image/png": "[encoded data removed]",
      "text/plain": [
       "<Figure size 432x288 with 1 Axes>"
      ]
     },
     "metadata": {
      "needs_background": "light"
     },
     "output_type": "display_data"
    }
   ],
   "source": [
    "sns.countplot(x=\"n_cylin\",data=auto)"
   ]
  },
  {
   "cell_type": "markdown",
   "id": "584fc108",
   "metadata": {},
   "source": [
    "<h1>COLUMN 17 - ENGINE SIZE(Continuous)</h1>"
   ]
  },
  {
   "cell_type": "code",
   "execution_count": 69,
   "id": "627bc22f",
   "metadata": {},
   "outputs": [
    {
     "data": {
      "text/plain": [
       "count    205.000000\n",
       "mean     126.907317\n",
       "std       41.642693\n",
       "min       61.000000\n",
       "25%       97.000000\n",
       "50%      120.000000\n",
       "75%      141.000000\n",
       "max      326.000000\n",
       "Name: e_size, dtype: float64"
      ]
     },
     "execution_count": 69,
     "metadata": {},
     "output_type": "execute_result"
    }
   ],
   "source": [
    "auto.e_size.describe()"
   ]
  },
  {
   "cell_type": "code",
   "execution_count": 70,
   "id": "2777d2a3",
   "metadata": {},
   "outputs": [
    {
     "data": {
      "text/plain": [
       "<AxesSubplot:>"
      ]
     },
     "execution_count": 70,
     "metadata": {},
     "output_type": "execute_result"
    },
    {
     "data": {
      "image/png": "[encoded data removed]",
      "text/plain": [
       "<Figure size 432x288 with 1 Axes>"
      ]
     },
     "metadata": {
      "needs_background": "light"
     },
     "output_type": "display_data"
    }
   ],
   "source": [
    "auto.e_size.hist()"
   ]
  },
  {
   "cell_type": "code",
   "execution_count": 71,
   "id": "50f21a47",
   "metadata": {},
   "outputs": [
    {
     "data": {
      "text/plain": [
       "ShapiroResult(statistic=0.8294388651847839, pvalue=3.0569154792128156e-14)"
      ]
     },
     "execution_count": 71,
     "metadata": {},
     "output_type": "execute_result"
    }
   ],
   "source": [
    "stats.shapiro(auto.e_size)"
   ]
  },
  {
   "cell_type": "markdown",
   "id": "f21297b9",
   "metadata": {},
   "source": [
    "<h3>It is not normally distributed and it has outliers.</h3>"
   ]
  },
  {
   "cell_type": "code",
   "execution_count": 72,
   "id": "88466506",
   "metadata": {},
   "outputs": [
    {
     "data": {
      "text/plain": [
       "{'whiskers': [<matplotlib.lines.Line2D at 0x1abc80ccac0>,\n",
       "  <matplotlib.lines.Line2D at 0x1abc80cce50>],\n",
       " 'caps': [<matplotlib.lines.Line2D at 0x1abc80d7220>,\n",
       "  <matplotlib.lines.Line2D at 0x1abc80d75b0>],\n",
       " 'boxes': [<matplotlib.lines.Line2D at 0x1abc80cc730>],\n",
       " 'medians': [<matplotlib.lines.Line2D at 0x1abc80d7940>],\n",
       " 'fliers': [<matplotlib.lines.Line2D at 0x1abc80d7cd0>],\n",
       " 'means': []}"
      ]
     },
     "execution_count": 72,
     "metadata": {},
     "output_type": "execute_result"
    },
    {
     "data": {
      "image/png": "[encoded data removed]",
      "text/plain": [
       "<Figure size 432x288 with 1 Axes>"
      ]
     },
     "metadata": {
      "needs_background": "light"
     },
     "output_type": "display_data"
    }
   ],
   "source": [
    "plt.boxplot(auto.e_size)"
   ]
  },
  {
   "cell_type": "markdown",
   "id": "2f639ac6",
   "metadata": {},
   "source": [
    "<h1>COLUMN 18 - FUEL SYSTEM(Discrete)</h1>"
   ]
  },
  {
   "cell_type": "code",
   "execution_count": 73,
   "id": "958078a1",
   "metadata": {},
   "outputs": [
    {
     "data": {
      "text/plain": [
       "count      205\n",
       "unique       8\n",
       "top       mpfi\n",
       "freq        94\n",
       "Name: fuel_sys, dtype: object"
      ]
     },
     "execution_count": 73,
     "metadata": {},
     "output_type": "execute_result"
    }
   ],
   "source": [
    "auto.fuel_sys.describe()"
   ]
  },
  {
   "cell_type": "code",
   "execution_count": 74,
   "id": "313af6e9",
   "metadata": {},
   "outputs": [
    {
     "data": {
      "text/plain": [
       "mpfi    94\n",
       "2bbl    66\n",
       "idi     20\n",
       "1bbl    11\n",
       "spdi     9\n",
       "4bbl     3\n",
       "mfi      1\n",
       "spfi     1\n",
       "Name: fuel_sys, dtype: int64"
      ]
     },
     "execution_count": 74,
     "metadata": {},
     "output_type": "execute_result"
    }
   ],
   "source": [
    "auto.fuel_sys.value_counts()"
   ]
  },
  {
   "cell_type": "code",
   "execution_count": 75,
   "id": "8f013e22",
   "metadata": {},
   "outputs": [
    {
     "data": {
      "text/plain": [
       "<AxesSubplot:xlabel='fuel_sys', ylabel='count'>"
      ]
     },
     "execution_count": 75,
     "metadata": {},
     "output_type": "execute_result"
    },
    {
     "data": {
      "image/png": "[encoded data removed]",
      "text/plain": [
       "<Figure size 432x288 with 1 Axes>"
      ]
     },
     "metadata": {
      "needs_background": "light"
     },
     "output_type": "display_data"
    }
   ],
   "source": [
    "sns.countplot(x=\"fuel_sys\",data=auto)"
   ]
  },
  {
   "cell_type": "markdown",
   "id": "6542be9d",
   "metadata": {},
   "source": [
    "<h1>COLUMN 19 - BORE(Continuous)</h1>"
   ]
  },
  {
   "cell_type": "code",
   "execution_count": 76,
   "id": "24d54160",
   "metadata": {},
   "outputs": [
    {
     "data": {
      "text/plain": [
       "count    201.000000\n",
       "mean       3.329751\n",
       "std        0.273539\n",
       "min        2.540000\n",
       "25%        3.150000\n",
       "50%        3.310000\n",
       "75%        3.590000\n",
       "max        3.940000\n",
       "Name: bore, dtype: float64"
      ]
     },
     "execution_count": 76,
     "metadata": {},
     "output_type": "execute_result"
    }
   ],
   "source": [
    "auto.bore.describe()"
   ]
  },
  {
   "cell_type": "code",
   "execution_count": 77,
   "id": "933ac22f",
   "metadata": {},
   "outputs": [
    {
     "data": {
      "text/plain": [
       "<AxesSubplot:>"
      ]
     },
     "execution_count": 77,
     "metadata": {},
     "output_type": "execute_result"
    },
    {
     "data": {
      "image/png": "[encoded data removed]",
      "text/plain": [
       "<Figure size 432x288 with 1 Axes>"
      ]
     },
     "metadata": {
      "needs_background": "light"
     },
     "output_type": "display_data"
    }
   ],
   "source": [
    "auto.bore.hist()"
   ]
  },
  {
   "cell_type": "markdown",
   "id": "9316d6d9",
   "metadata": {},
   "source": [
    "<h3> -------------------------------------------------------<br>* Bore has 4 null attributes.<br>* Filling the null values with their median</h3>\n",
    "<h3>Bore is not normally distributed  </h3>"
   ]
  },
  {
   "cell_type": "code",
   "execution_count": 78,
   "id": "97faf796",
   "metadata": {},
   "outputs": [],
   "source": [
    "auto.bore.fillna(auto.bore.mean(),inplace=True)"
   ]
  },
  {
   "cell_type": "code",
   "execution_count": 79,
   "id": "45f4cf70",
   "metadata": {},
   "outputs": [
    {
     "data": {
      "text/plain": [
       "0"
      ]
     },
     "execution_count": 79,
     "metadata": {},
     "output_type": "execute_result"
    }
   ],
   "source": [
    "auto.bore.isnull().sum()"
   ]
  },
  {
   "cell_type": "code",
   "execution_count": 80,
   "id": "f2f32340",
   "metadata": {},
   "outputs": [
    {
     "data": {
      "text/plain": [
       "ShapiroResult(statistic=0.967185378074646, pvalue=0.00010421191109344363)"
      ]
     },
     "execution_count": 80,
     "metadata": {},
     "output_type": "execute_result"
    }
   ],
   "source": [
    "stats.shapiro(auto.bore)"
   ]
  },
  {
   "cell_type": "code",
   "execution_count": 81,
   "id": "5336dafb",
   "metadata": {},
   "outputs": [
    {
     "data": {
      "text/plain": [
       "{'whiskers': [<matplotlib.lines.Line2D at 0x1abc97ff0a0>,\n",
       "  <matplotlib.lines.Line2D at 0x1abc97ff430>],\n",
       " 'caps': [<matplotlib.lines.Line2D at 0x1abc97ff7c0>,\n",
       "  <matplotlib.lines.Line2D at 0x1abc97ffb50>],\n",
       " 'boxes': [<matplotlib.lines.Line2D at 0x1abc97efca0>],\n",
       " 'medians': [<matplotlib.lines.Line2D at 0x1abc97ffee0>],\n",
       " 'fliers': [<matplotlib.lines.Line2D at 0x1abc980a2b0>],\n",
       " 'means': []}"
      ]
     },
     "execution_count": 81,
     "metadata": {},
     "output_type": "execute_result"
    },
    {
     "data": {
      "image/png": "[encoded data removed]",
      "text/plain": [
       "<Figure size 432x288 with 1 Axes>"
      ]
     },
     "metadata": {
      "needs_background": "light"
     },
     "output_type": "display_data"
    }
   ],
   "source": [
    "plt.boxplot(auto.bore)"
   ]
  },
  {
   "cell_type": "markdown",
   "id": "61c9e249",
   "metadata": {},
   "source": [
    "<h1>COLUMN 20 - STROKE(Continuous)</h1>"
   ]
  },
  {
   "cell_type": "code",
   "execution_count": 82,
   "id": "8780870a",
   "metadata": {},
   "outputs": [
    {
     "data": {
      "text/plain": [
       "count    201.000000\n",
       "mean       3.255423\n",
       "std        0.316717\n",
       "min        2.070000\n",
       "25%        3.110000\n",
       "50%        3.290000\n",
       "75%        3.410000\n",
       "max        4.170000\n",
       "Name: stroke, dtype: float64"
      ]
     },
     "execution_count": 82,
     "metadata": {},
     "output_type": "execute_result"
    }
   ],
   "source": [
    "auto.stroke.describe()"
   ]
  },
  {
   "cell_type": "code",
   "execution_count": 83,
   "id": "6e8b19c4",
   "metadata": {},
   "outputs": [
    {
     "data": {
      "text/plain": [
       "<AxesSubplot:>"
      ]
     },
     "execution_count": 83,
     "metadata": {},
     "output_type": "execute_result"
    },
    {
     "data": {
      "image/png": "[encoded data removed]",
      "text/plain": [
       "<Figure size 432x288 with 1 Axes>"
      ]
     },
     "metadata": {
      "needs_background": "light"
     },
     "output_type": "display_data"
    }
   ],
   "source": [
    "auto.stroke.hist()"
   ]
  },
  {
   "cell_type": "markdown",
   "id": "164d9c19",
   "metadata": {},
   "source": [
    "<h3>Stroke is not normally distributed and it has outliers</h3><br><h3> -------------------------------------------------------<br>* Stroke has 4 null attributes.<br>* Filling the null values with their median</h3>"
   ]
  },
  {
   "cell_type": "code",
   "execution_count": 84,
   "id": "274c3f99",
   "metadata": {},
   "outputs": [],
   "source": [
    "auto.stroke.fillna(auto.stroke.median(),inplace=True)"
   ]
  },
  {
   "cell_type": "code",
   "execution_count": 85,
   "id": "fe7bca0e",
   "metadata": {},
   "outputs": [
    {
     "data": {
      "text/plain": [
       "0"
      ]
     },
     "execution_count": 85,
     "metadata": {},
     "output_type": "execute_result"
    }
   ],
   "source": [
    "auto.stroke.isnull().sum()"
   ]
  },
  {
   "cell_type": "code",
   "execution_count": 86,
   "id": "bdbae427",
   "metadata": {},
   "outputs": [
    {
     "data": {
      "text/plain": [
       "ShapiroResult(statistic=0.9372692704200745, pvalue=9.892903563013533e-08)"
      ]
     },
     "execution_count": 86,
     "metadata": {},
     "output_type": "execute_result"
    }
   ],
   "source": [
    "stats.shapiro(auto.stroke)"
   ]
  },
  {
   "cell_type": "code",
   "execution_count": 87,
   "id": "9a1ee0dc",
   "metadata": {},
   "outputs": [
    {
     "data": {
      "text/plain": [
       "{'whiskers': [<matplotlib.lines.Line2D at 0x1abc98ea5b0>,\n",
       "  <matplotlib.lines.Line2D at 0x1abc98ea940>],\n",
       " 'caps': [<matplotlib.lines.Line2D at 0x1abc98eacd0>,\n",
       "  <matplotlib.lines.Line2D at 0x1abc98f30a0>],\n",
       " 'boxes': [<matplotlib.lines.Line2D at 0x1abc98ea220>],\n",
       " 'medians': [<matplotlib.lines.Line2D at 0x1abc98f3430>],\n",
       " 'fliers': [<matplotlib.lines.Line2D at 0x1abc98f37c0>],\n",
       " 'means': []}"
      ]
     },
     "execution_count": 87,
     "metadata": {},
     "output_type": "execute_result"
    },
    {
     "data": {
      "image/png": "[encoded data removed]",
      "text/plain": [
       "<Figure size 432x288 with 1 Axes>"
      ]
     },
     "metadata": {
      "needs_background": "light"
     },
     "output_type": "display_data"
    }
   ],
   "source": [
    "plt.boxplot(auto.stroke)"
   ]
  },
  {
   "cell_type": "markdown",
   "id": "ca511423",
   "metadata": {},
   "source": [
    "<h1>COLUMN 21 - COMPRESSION RATIO(Continuous)</h1>"
   ]
  },
  {
   "cell_type": "code",
   "execution_count": 88,
   "id": "80c3b7f8",
   "metadata": {},
   "outputs": [
    {
     "data": {
      "text/plain": [
       "count    205.000000\n",
       "mean      10.142537\n",
       "std        3.972040\n",
       "min        7.000000\n",
       "25%        8.600000\n",
       "50%        9.000000\n",
       "75%        9.400000\n",
       "max       23.000000\n",
       "Name: cmp, dtype: float64"
      ]
     },
     "execution_count": 88,
     "metadata": {},
     "output_type": "execute_result"
    }
   ],
   "source": [
    "auto.cmp.describe()"
   ]
  },
  {
   "cell_type": "code",
   "execution_count": 89,
   "id": "33584d3d",
   "metadata": {},
   "outputs": [
    {
     "data": {
      "text/plain": [
       "<AxesSubplot:>"
      ]
     },
     "execution_count": 89,
     "metadata": {},
     "output_type": "execute_result"
    },
    {
     "data": {
      "image/png": "[encoded data removed]",
      "text/plain": [
       "<Figure size 432x288 with 1 Axes>"
      ]
     },
     "metadata": {
      "needs_background": "light"
     },
     "output_type": "display_data"
    }
   ],
   "source": [
    "auto.cmp.hist()"
   ]
  },
  {
   "cell_type": "code",
   "execution_count": 90,
   "id": "12359d3e",
   "metadata": {},
   "outputs": [
    {
     "data": {
      "text/plain": [
       "ShapiroResult(statistic=0.49774158000946045, pvalue=8.12114079238121e-24)"
      ]
     },
     "execution_count": 90,
     "metadata": {},
     "output_type": "execute_result"
    }
   ],
   "source": [
    "stats.shapiro(auto.cmp)"
   ]
  },
  {
   "cell_type": "markdown",
   "id": "7eaef957",
   "metadata": {},
   "source": [
    "<h3>It is not normally distributed  and it has outliers </h3>"
   ]
  },
  {
   "cell_type": "code",
   "execution_count": 91,
   "id": "0e27b884",
   "metadata": {},
   "outputs": [
    {
     "data": {
      "text/plain": [
       "{'whiskers': [<matplotlib.lines.Line2D at 0x1abc99cdb80>,\n",
       "  <matplotlib.lines.Line2D at 0x1abc99cdf10>],\n",
       " 'caps': [<matplotlib.lines.Line2D at 0x1abc99dc2e0>,\n",
       "  <matplotlib.lines.Line2D at 0x1abc99dc670>],\n",
       " 'boxes': [<matplotlib.lines.Line2D at 0x1abc99cd7f0>],\n",
       " 'medians': [<matplotlib.lines.Line2D at 0x1abc99dca00>],\n",
       " 'fliers': [<matplotlib.lines.Line2D at 0x1abc99dcd90>],\n",
       " 'means': []}"
      ]
     },
     "execution_count": 91,
     "metadata": {},
     "output_type": "execute_result"
    },
    {
     "data": {
      "image/png": "[encoded data removed]",
      "text/plain": [
       "<Figure size 432x288 with 1 Axes>"
      ]
     },
     "metadata": {
      "needs_background": "light"
     },
     "output_type": "display_data"
    }
   ],
   "source": [
    "plt.boxplot(auto.cmp)"
   ]
  },
  {
   "cell_type": "markdown",
   "id": "11d4d2c7",
   "metadata": {},
   "source": [
    "<h1>COLUMN 22 - HORSE POWER(Continuous)</h1>"
   ]
  },
  {
   "cell_type": "code",
   "execution_count": 92,
   "id": "936e4170",
   "metadata": {},
   "outputs": [
    {
     "data": {
      "text/plain": [
       "count    203.000000\n",
       "mean     104.256158\n",
       "std       39.714369\n",
       "min       48.000000\n",
       "25%       70.000000\n",
       "50%       95.000000\n",
       "75%      116.000000\n",
       "max      288.000000\n",
       "Name: hpow, dtype: float64"
      ]
     },
     "execution_count": 92,
     "metadata": {},
     "output_type": "execute_result"
    }
   ],
   "source": [
    "auto.hpow.describe()"
   ]
  },
  {
   "cell_type": "code",
   "execution_count": 93,
   "id": "638938df",
   "metadata": {},
   "outputs": [
    {
     "data": {
      "text/plain": [
       "<AxesSubplot:>"
      ]
     },
     "execution_count": 93,
     "metadata": {},
     "output_type": "execute_result"
    },
    {
     "data": {
      "image/png": "[encoded data removed]",
      "text/plain": [
       "<Figure size 432x288 with 1 Axes>"
      ]
     },
     "metadata": {
      "needs_background": "light"
     },
     "output_type": "display_data"
    }
   ],
   "source": [
    "auto.hpow.hist()"
   ]
  },
  {
   "cell_type": "markdown",
   "id": "e2481d60",
   "metadata": {},
   "source": [
    "<h3>It is not normally distributed and it has outliers</h3><br><h3> -------------------------------------------------------<br>* It has 2 null attributes.<br>* Filling the null values with their median</h3>"
   ]
  },
  {
   "cell_type": "code",
   "execution_count": 94,
   "id": "dc703420",
   "metadata": {},
   "outputs": [],
   "source": [
    "auto.hpow.fillna(auto.hpow.median(),inplace=True)"
   ]
  },
  {
   "cell_type": "code",
   "execution_count": 95,
   "id": "050ee031",
   "metadata": {},
   "outputs": [
    {
     "data": {
      "text/plain": [
       "0"
      ]
     },
     "execution_count": 95,
     "metadata": {},
     "output_type": "execute_result"
    }
   ],
   "source": [
    "auto.hpow.isnull().sum()"
   ]
  },
  {
   "cell_type": "code",
   "execution_count": 96,
   "id": "0777f4a0",
   "metadata": {},
   "outputs": [
    {
     "data": {
      "text/plain": [
       "ShapiroResult(statistic=0.8840506672859192, pvalue=1.8387607408909545e-11)"
      ]
     },
     "execution_count": 96,
     "metadata": {},
     "output_type": "execute_result"
    }
   ],
   "source": [
    "stats.shapiro(auto.hpow)"
   ]
  },
  {
   "cell_type": "code",
   "execution_count": 97,
   "id": "993bdfab",
   "metadata": {},
   "outputs": [
    {
     "data": {
      "text/plain": [
       "{'whiskers': [<matplotlib.lines.Line2D at 0x1abc9abf130>,\n",
       "  <matplotlib.lines.Line2D at 0x1abc9abf4f0>],\n",
       " 'caps': [<matplotlib.lines.Line2D at 0x1abc9abf880>,\n",
       "  <matplotlib.lines.Line2D at 0x1abc9abfc10>],\n",
       " 'boxes': [<matplotlib.lines.Line2D at 0x1abc9aafd60>],\n",
       " 'medians': [<matplotlib.lines.Line2D at 0x1abc9abffa0>],\n",
       " 'fliers': [<matplotlib.lines.Line2D at 0x1abc9aca370>],\n",
       " 'means': []}"
      ]
     },
     "execution_count": 97,
     "metadata": {},
     "output_type": "execute_result"
    },
    {
     "data": {
      "image/png": "[encoded data removed]",
      "text/plain": [
       "<Figure size 432x288 with 1 Axes>"
      ]
     },
     "metadata": {
      "needs_background": "light"
     },
     "output_type": "display_data"
    }
   ],
   "source": [
    "plt.boxplot(auto.hpow)"
   ]
  },
  {
   "cell_type": "markdown",
   "id": "033029eb",
   "metadata": {},
   "source": [
    "<h1>COLUMN 23 - PEAK RPM(Continuous)</h1>"
   ]
  },
  {
   "cell_type": "code",
   "execution_count": 98,
   "id": "719022ad",
   "metadata": {},
   "outputs": [
    {
     "data": {
      "text/plain": [
       "count     203.000000\n",
       "mean     5125.369458\n",
       "std       479.334560\n",
       "min      4150.000000\n",
       "25%      4800.000000\n",
       "50%      5200.000000\n",
       "75%      5500.000000\n",
       "max      6600.000000\n",
       "Name: rmp, dtype: float64"
      ]
     },
     "execution_count": 98,
     "metadata": {},
     "output_type": "execute_result"
    }
   ],
   "source": [
    "auto.rmp.describe()"
   ]
  },
  {
   "cell_type": "code",
   "execution_count": 99,
   "id": "baea9480",
   "metadata": {},
   "outputs": [
    {
     "data": {
      "text/plain": [
       "<AxesSubplot:>"
      ]
     },
     "execution_count": 99,
     "metadata": {},
     "output_type": "execute_result"
    },
    {
     "data": {
      "image/png": "[encoded data removed]",
      "text/plain": [
       "<Figure size 432x288 with 1 Axes>"
      ]
     },
     "metadata": {
      "needs_background": "light"
     },
     "output_type": "display_data"
    }
   ],
   "source": [
    "auto.rmp.hist()"
   ]
  },
  {
   "cell_type": "markdown",
   "id": "f0a59f0e",
   "metadata": {},
   "source": [
    "<h3>It is not normally distributed and it has outliers</h3><br><h3> -------------------------------------------------------<br>* It has 2 null attributes.<br>* Filling the null values with their median</h3>"
   ]
  },
  {
   "cell_type": "code",
   "execution_count": 100,
   "id": "fa7ba588",
   "metadata": {},
   "outputs": [],
   "source": [
    "auto.rmp.fillna(auto.rmp.median(),inplace=True)"
   ]
  },
  {
   "cell_type": "code",
   "execution_count": 101,
   "id": "bf19765a",
   "metadata": {},
   "outputs": [
    {
     "data": {
      "text/plain": [
       "0"
      ]
     },
     "execution_count": 101,
     "metadata": {},
     "output_type": "execute_result"
    }
   ],
   "source": [
    "auto.rmp.isnull().sum()"
   ]
  },
  {
   "cell_type": "code",
   "execution_count": 102,
   "id": "13f325e7",
   "metadata": {},
   "outputs": [
    {
     "data": {
      "text/plain": [
       "ShapiroResult(statistic=0.9701935648918152, pvalue=0.00024416492669843137)"
      ]
     },
     "execution_count": 102,
     "metadata": {},
     "output_type": "execute_result"
    }
   ],
   "source": [
    "stats.shapiro(auto.rmp)"
   ]
  },
  {
   "cell_type": "code",
   "execution_count": 103,
   "id": "875f5222",
   "metadata": {},
   "outputs": [
    {
     "data": {
      "text/plain": [
       "{'whiskers': [<matplotlib.lines.Line2D at 0x1abc9b9b490>,\n",
       "  <matplotlib.lines.Line2D at 0x1abc9b9b820>],\n",
       " 'caps': [<matplotlib.lines.Line2D at 0x1abc9b9bbb0>,\n",
       "  <matplotlib.lines.Line2D at 0x1abc9b9bf40>],\n",
       " 'boxes': [<matplotlib.lines.Line2D at 0x1abc9b9b100>],\n",
       " 'medians': [<matplotlib.lines.Line2D at 0x1abc9ba6310>],\n",
       " 'fliers': [<matplotlib.lines.Line2D at 0x1abc9ba66a0>],\n",
       " 'means': []}"
      ]
     },
     "execution_count": 103,
     "metadata": {},
     "output_type": "execute_result"
    },
    {
     "data": {
      "image/png": "[encoded data removed]",
      "text/plain": [
       "<Figure size 432x288 with 1 Axes>"
      ]
     },
     "metadata": {
      "needs_background": "light"
     },
     "output_type": "display_data"
    }
   ],
   "source": [
    "plt.boxplot(auto.rmp)"
   ]
  },
  {
   "cell_type": "markdown",
   "id": "630e081e",
   "metadata": {},
   "source": [
    "<h1>COLUMN 24 - CITY MPG(Continuous)</h1>"
   ]
  },
  {
   "cell_type": "code",
   "execution_count": 104,
   "id": "42d8b0a3",
   "metadata": {},
   "outputs": [
    {
     "data": {
      "text/plain": [
       "count    205.000000\n",
       "mean      25.219512\n",
       "std        6.542142\n",
       "min       13.000000\n",
       "25%       19.000000\n",
       "50%       24.000000\n",
       "75%       30.000000\n",
       "max       49.000000\n",
       "Name: c_mpg, dtype: float64"
      ]
     },
     "execution_count": 104,
     "metadata": {},
     "output_type": "execute_result"
    }
   ],
   "source": [
    "auto.c_mpg.describe()"
   ]
  },
  {
   "cell_type": "code",
   "execution_count": 105,
   "id": "976226e2",
   "metadata": {},
   "outputs": [
    {
     "data": {
      "text/plain": [
       "<AxesSubplot:>"
      ]
     },
     "execution_count": 105,
     "metadata": {},
     "output_type": "execute_result"
    },
    {
     "data": {
      "image/png": "[encoded data removed]",
      "text/plain": [
       "<Figure size 432x288 with 1 Axes>"
      ]
     },
     "metadata": {
      "needs_background": "light"
     },
     "output_type": "display_data"
    }
   ],
   "source": [
    "auto.c_mpg.hist()"
   ]
  },
  {
   "cell_type": "code",
   "execution_count": 106,
   "id": "1c82f2cd",
   "metadata": {},
   "outputs": [
    {
     "data": {
      "text/plain": [
       "ShapiroResult(statistic=0.9572238922119141, pvalue=7.825866305211093e-06)"
      ]
     },
     "execution_count": 106,
     "metadata": {},
     "output_type": "execute_result"
    }
   ],
   "source": [
    "stats.shapiro(auto.c_mpg)"
   ]
  },
  {
   "cell_type": "markdown",
   "id": "8e739850",
   "metadata": {},
   "source": [
    "<h3>It is not normally distributed and it has outliers</h3>"
   ]
  },
  {
   "cell_type": "code",
   "execution_count": 107,
   "id": "6f99d522",
   "metadata": {},
   "outputs": [
    {
     "data": {
      "text/plain": [
       "{'whiskers': [<matplotlib.lines.Line2D at 0x1abc9c836d0>,\n",
       "  <matplotlib.lines.Line2D at 0x1abc9c83a60>],\n",
       " 'caps': [<matplotlib.lines.Line2D at 0x1abc9c83df0>,\n",
       "  <matplotlib.lines.Line2D at 0x1abc9c901c0>],\n",
       " 'boxes': [<matplotlib.lines.Line2D at 0x1abc9c83340>],\n",
       " 'medians': [<matplotlib.lines.Line2D at 0x1abc9c90550>],\n",
       " 'fliers': [<matplotlib.lines.Line2D at 0x1abc9c908e0>],\n",
       " 'means': []}"
      ]
     },
     "execution_count": 107,
     "metadata": {},
     "output_type": "execute_result"
    },
    {
     "data": {
      "image/png": "[encoded data removed]",
      "text/plain": [
       "<Figure size 432x288 with 1 Axes>"
      ]
     },
     "metadata": {
      "needs_background": "light"
     },
     "output_type": "display_data"
    }
   ],
   "source": [
    "plt.boxplot(auto.c_mpg)"
   ]
  },
  {
   "cell_type": "markdown",
   "id": "09edf5e5",
   "metadata": {},
   "source": [
    "<h1>COLUMN 25 - HIGHWAY MPG(Continuous)</h1>"
   ]
  },
  {
   "cell_type": "code",
   "execution_count": 108,
   "id": "e02ddcee",
   "metadata": {},
   "outputs": [
    {
     "data": {
      "text/plain": [
       "count    205.000000\n",
       "mean      30.751220\n",
       "std        6.886443\n",
       "min       16.000000\n",
       "25%       25.000000\n",
       "50%       30.000000\n",
       "75%       34.000000\n",
       "max       54.000000\n",
       "Name: h_mpg, dtype: float64"
      ]
     },
     "execution_count": 108,
     "metadata": {},
     "output_type": "execute_result"
    }
   ],
   "source": [
    "auto.h_mpg.describe()"
   ]
  },
  {
   "cell_type": "code",
   "execution_count": 109,
   "id": "94cd363f",
   "metadata": {},
   "outputs": [
    {
     "data": {
      "text/plain": [
       "<AxesSubplot:>"
      ]
     },
     "execution_count": 109,
     "metadata": {},
     "output_type": "execute_result"
    },
    {
     "data": {
      "image/png": "[encoded data removed]",
      "text/plain": [
       "<Figure size 432x288 with 1 Axes>"
      ]
     },
     "metadata": {
      "needs_background": "light"
     },
     "output_type": "display_data"
    }
   ],
   "source": [
    "auto.h_mpg.hist()"
   ]
  },
  {
   "cell_type": "markdown",
   "id": "48ebd7c1",
   "metadata": {},
   "source": []
  },
  {
   "cell_type": "code",
   "execution_count": 110,
   "id": "185dedb0",
   "metadata": {},
   "outputs": [
    {
     "data": {
      "text/plain": [
       "ShapiroResult(statistic=0.9735103845596313, pvalue=0.0006515368004329503)"
      ]
     },
     "execution_count": 110,
     "metadata": {},
     "output_type": "execute_result"
    }
   ],
   "source": [
    "stats.shapiro(auto.h_mpg)"
   ]
  },
  {
   "cell_type": "markdown",
   "id": "d97fb75c",
   "metadata": {},
   "source": [
    "<h3>It is not normally distributed and it has outliers</h3>"
   ]
  },
  {
   "cell_type": "code",
   "execution_count": 111,
   "id": "34b16ff4",
   "metadata": {},
   "outputs": [
    {
     "name": "stdout",
     "output_type": "stream",
     "text": [
      "25.0 34.0 9.0 47.5 11.5\n"
     ]
    }
   ],
   "source": [
    "Q1=auto.h_mpg.quantile(0.25)\n",
    "Q3=auto.h_mpg.quantile(0.75)\n",
    "IQR=Q3-Q1\n",
    "UE=Q3+1.5*(IQR)\n",
    "LE=Q1-1.5*(IQR)\n",
    "print(Q1,Q3,IQR,UE,LE)\n"
   ]
  },
  {
   "cell_type": "code",
   "execution_count": 112,
   "id": "5081e68f",
   "metadata": {},
   "outputs": [
    {
     "data": {
      "text/html": [
       "<div>\n",
       "<style scoped>\n",
       "    .dataframe tbody tr th:only-of-type {\n",
       "        vertical-align: middle;\n",
       "    }\n",
       "\n",
       "    .dataframe tbody tr th {\n",
       "        vertical-align: top;\n",
       "    }\n",
       "\n",
       "    .dataframe thead th {\n",
       "        text-align: right;\n",
       "    }\n",
       "</style>\n",
       "<table border=\"1\" class=\"dataframe\">\n",
       "  <thead>\n",
       "    <tr style=\"text-align: right;\">\n",
       "      <th></th>\n",
       "      <th>symbol</th>\n",
       "      <th>nor_loss</th>\n",
       "      <th>make</th>\n",
       "      <th>f_type</th>\n",
       "      <th>aspr</th>\n",
       "      <th>no_doors</th>\n",
       "      <th>b_style</th>\n",
       "      <th>wheel</th>\n",
       "      <th>eng_loc</th>\n",
       "      <th>w_base</th>\n",
       "      <th>...</th>\n",
       "      <th>e_size</th>\n",
       "      <th>fuel_sys</th>\n",
       "      <th>bore</th>\n",
       "      <th>stroke</th>\n",
       "      <th>cmp</th>\n",
       "      <th>hpow</th>\n",
       "      <th>rmp</th>\n",
       "      <th>c_mpg</th>\n",
       "      <th>h_mpg</th>\n",
       "      <th>price</th>\n",
       "    </tr>\n",
       "  </thead>\n",
       "  <tbody>\n",
       "    <tr>\n",
       "      <th>0</th>\n",
       "      <td>3</td>\n",
       "      <td>115.0</td>\n",
       "      <td>alfa-romero</td>\n",
       "      <td>gas</td>\n",
       "      <td>std</td>\n",
       "      <td>two</td>\n",
       "      <td>convertible</td>\n",
       "      <td>rwd</td>\n",
       "      <td>front</td>\n",
       "      <td>88.6</td>\n",
       "      <td>...</td>\n",
       "      <td>130</td>\n",
       "      <td>mpfi</td>\n",
       "      <td>3.47</td>\n",
       "      <td>2.68</td>\n",
       "      <td>9.0</td>\n",
       "      <td>111.0</td>\n",
       "      <td>5000.0</td>\n",
       "      <td>21</td>\n",
       "      <td>27</td>\n",
       "      <td>13495.0</td>\n",
       "    </tr>\n",
       "    <tr>\n",
       "      <th>1</th>\n",
       "      <td>3</td>\n",
       "      <td>115.0</td>\n",
       "      <td>alfa-romero</td>\n",
       "      <td>gas</td>\n",
       "      <td>std</td>\n",
       "      <td>two</td>\n",
       "      <td>convertible</td>\n",
       "      <td>rwd</td>\n",
       "      <td>front</td>\n",
       "      <td>88.6</td>\n",
       "      <td>...</td>\n",
       "      <td>130</td>\n",
       "      <td>mpfi</td>\n",
       "      <td>3.47</td>\n",
       "      <td>2.68</td>\n",
       "      <td>9.0</td>\n",
       "      <td>111.0</td>\n",
       "      <td>5000.0</td>\n",
       "      <td>21</td>\n",
       "      <td>27</td>\n",
       "      <td>16500.0</td>\n",
       "    </tr>\n",
       "    <tr>\n",
       "      <th>2</th>\n",
       "      <td>1</td>\n",
       "      <td>115.0</td>\n",
       "      <td>alfa-romero</td>\n",
       "      <td>gas</td>\n",
       "      <td>std</td>\n",
       "      <td>two</td>\n",
       "      <td>hatchback</td>\n",
       "      <td>rwd</td>\n",
       "      <td>front</td>\n",
       "      <td>94.5</td>\n",
       "      <td>...</td>\n",
       "      <td>152</td>\n",
       "      <td>mpfi</td>\n",
       "      <td>2.68</td>\n",
       "      <td>3.47</td>\n",
       "      <td>9.0</td>\n",
       "      <td>154.0</td>\n",
       "      <td>5000.0</td>\n",
       "      <td>19</td>\n",
       "      <td>26</td>\n",
       "      <td>16500.0</td>\n",
       "    </tr>\n",
       "    <tr>\n",
       "      <th>3</th>\n",
       "      <td>2</td>\n",
       "      <td>164.0</td>\n",
       "      <td>audi</td>\n",
       "      <td>gas</td>\n",
       "      <td>std</td>\n",
       "      <td>four</td>\n",
       "      <td>sedan</td>\n",
       "      <td>fwd</td>\n",
       "      <td>front</td>\n",
       "      <td>99.8</td>\n",
       "      <td>...</td>\n",
       "      <td>109</td>\n",
       "      <td>mpfi</td>\n",
       "      <td>3.19</td>\n",
       "      <td>3.40</td>\n",
       "      <td>10.0</td>\n",
       "      <td>102.0</td>\n",
       "      <td>5500.0</td>\n",
       "      <td>24</td>\n",
       "      <td>30</td>\n",
       "      <td>13950.0</td>\n",
       "    </tr>\n",
       "    <tr>\n",
       "      <th>4</th>\n",
       "      <td>2</td>\n",
       "      <td>164.0</td>\n",
       "      <td>audi</td>\n",
       "      <td>gas</td>\n",
       "      <td>std</td>\n",
       "      <td>four</td>\n",
       "      <td>sedan</td>\n",
       "      <td>4wd</td>\n",
       "      <td>front</td>\n",
       "      <td>99.4</td>\n",
       "      <td>...</td>\n",
       "      <td>136</td>\n",
       "      <td>mpfi</td>\n",
       "      <td>3.19</td>\n",
       "      <td>3.40</td>\n",
       "      <td>8.0</td>\n",
       "      <td>115.0</td>\n",
       "      <td>5500.0</td>\n",
       "      <td>18</td>\n",
       "      <td>22</td>\n",
       "      <td>17450.0</td>\n",
       "    </tr>\n",
       "    <tr>\n",
       "      <th>...</th>\n",
       "      <td>...</td>\n",
       "      <td>...</td>\n",
       "      <td>...</td>\n",
       "      <td>...</td>\n",
       "      <td>...</td>\n",
       "      <td>...</td>\n",
       "      <td>...</td>\n",
       "      <td>...</td>\n",
       "      <td>...</td>\n",
       "      <td>...</td>\n",
       "      <td>...</td>\n",
       "      <td>...</td>\n",
       "      <td>...</td>\n",
       "      <td>...</td>\n",
       "      <td>...</td>\n",
       "      <td>...</td>\n",
       "      <td>...</td>\n",
       "      <td>...</td>\n",
       "      <td>...</td>\n",
       "      <td>...</td>\n",
       "      <td>...</td>\n",
       "    </tr>\n",
       "    <tr>\n",
       "      <th>200</th>\n",
       "      <td>&gt;=-1</td>\n",
       "      <td>95.0</td>\n",
       "      <td>volvo</td>\n",
       "      <td>gas</td>\n",
       "      <td>std</td>\n",
       "      <td>four</td>\n",
       "      <td>sedan</td>\n",
       "      <td>rwd</td>\n",
       "      <td>front</td>\n",
       "      <td>109.1</td>\n",
       "      <td>...</td>\n",
       "      <td>141</td>\n",
       "      <td>mpfi</td>\n",
       "      <td>3.78</td>\n",
       "      <td>3.15</td>\n",
       "      <td>9.5</td>\n",
       "      <td>114.0</td>\n",
       "      <td>5400.0</td>\n",
       "      <td>23</td>\n",
       "      <td>28</td>\n",
       "      <td>16845.0</td>\n",
       "    </tr>\n",
       "    <tr>\n",
       "      <th>201</th>\n",
       "      <td>&gt;=-1</td>\n",
       "      <td>95.0</td>\n",
       "      <td>volvo</td>\n",
       "      <td>gas</td>\n",
       "      <td>turbo</td>\n",
       "      <td>four</td>\n",
       "      <td>sedan</td>\n",
       "      <td>rwd</td>\n",
       "      <td>front</td>\n",
       "      <td>109.1</td>\n",
       "      <td>...</td>\n",
       "      <td>141</td>\n",
       "      <td>mpfi</td>\n",
       "      <td>3.78</td>\n",
       "      <td>3.15</td>\n",
       "      <td>8.7</td>\n",
       "      <td>160.0</td>\n",
       "      <td>5300.0</td>\n",
       "      <td>19</td>\n",
       "      <td>25</td>\n",
       "      <td>19045.0</td>\n",
       "    </tr>\n",
       "    <tr>\n",
       "      <th>202</th>\n",
       "      <td>&gt;=-1</td>\n",
       "      <td>95.0</td>\n",
       "      <td>volvo</td>\n",
       "      <td>gas</td>\n",
       "      <td>std</td>\n",
       "      <td>four</td>\n",
       "      <td>sedan</td>\n",
       "      <td>rwd</td>\n",
       "      <td>front</td>\n",
       "      <td>109.1</td>\n",
       "      <td>...</td>\n",
       "      <td>173</td>\n",
       "      <td>mpfi</td>\n",
       "      <td>3.58</td>\n",
       "      <td>2.87</td>\n",
       "      <td>8.8</td>\n",
       "      <td>134.0</td>\n",
       "      <td>5500.0</td>\n",
       "      <td>18</td>\n",
       "      <td>23</td>\n",
       "      <td>21485.0</td>\n",
       "    </tr>\n",
       "    <tr>\n",
       "      <th>203</th>\n",
       "      <td>&gt;=-1</td>\n",
       "      <td>95.0</td>\n",
       "      <td>volvo</td>\n",
       "      <td>diesel</td>\n",
       "      <td>turbo</td>\n",
       "      <td>four</td>\n",
       "      <td>sedan</td>\n",
       "      <td>rwd</td>\n",
       "      <td>front</td>\n",
       "      <td>109.1</td>\n",
       "      <td>...</td>\n",
       "      <td>145</td>\n",
       "      <td>idi</td>\n",
       "      <td>3.01</td>\n",
       "      <td>3.40</td>\n",
       "      <td>23.0</td>\n",
       "      <td>106.0</td>\n",
       "      <td>4800.0</td>\n",
       "      <td>26</td>\n",
       "      <td>27</td>\n",
       "      <td>22470.0</td>\n",
       "    </tr>\n",
       "    <tr>\n",
       "      <th>204</th>\n",
       "      <td>&gt;=-1</td>\n",
       "      <td>95.0</td>\n",
       "      <td>volvo</td>\n",
       "      <td>gas</td>\n",
       "      <td>turbo</td>\n",
       "      <td>four</td>\n",
       "      <td>sedan</td>\n",
       "      <td>rwd</td>\n",
       "      <td>front</td>\n",
       "      <td>109.1</td>\n",
       "      <td>...</td>\n",
       "      <td>141</td>\n",
       "      <td>mpfi</td>\n",
       "      <td>3.78</td>\n",
       "      <td>3.15</td>\n",
       "      <td>9.5</td>\n",
       "      <td>114.0</td>\n",
       "      <td>5400.0</td>\n",
       "      <td>19</td>\n",
       "      <td>25</td>\n",
       "      <td>22625.0</td>\n",
       "    </tr>\n",
       "  </tbody>\n",
       "</table>\n",
       "<p>202 rows × 26 columns</p>\n",
       "</div>"
      ],
      "text/plain": [
       "    symbol  nor_loss         make  f_type   aspr no_doors      b_style wheel  \\\n",
       "0        3     115.0  alfa-romero     gas    std      two  convertible   rwd   \n",
       "1        3     115.0  alfa-romero     gas    std      two  convertible   rwd   \n",
       "2        1     115.0  alfa-romero     gas    std      two    hatchback   rwd   \n",
       "3        2     164.0         audi     gas    std     four        sedan   fwd   \n",
       "4        2     164.0         audi     gas    std     four        sedan   4wd   \n",
       "..     ...       ...          ...     ...    ...      ...          ...   ...   \n",
       "200   >=-1      95.0        volvo     gas    std     four        sedan   rwd   \n",
       "201   >=-1      95.0        volvo     gas  turbo     four        sedan   rwd   \n",
       "202   >=-1      95.0        volvo     gas    std     four        sedan   rwd   \n",
       "203   >=-1      95.0        volvo  diesel  turbo     four        sedan   rwd   \n",
       "204   >=-1      95.0        volvo     gas  turbo     four        sedan   rwd   \n",
       "\n",
       "    eng_loc  w_base  ...  e_size  fuel_sys  bore  stroke   cmp   hpow     rmp  \\\n",
       "0     front    88.6  ...     130      mpfi  3.47    2.68   9.0  111.0  5000.0   \n",
       "1     front    88.6  ...     130      mpfi  3.47    2.68   9.0  111.0  5000.0   \n",
       "2     front    94.5  ...     152      mpfi  2.68    3.47   9.0  154.0  5000.0   \n",
       "3     front    99.8  ...     109      mpfi  3.19    3.40  10.0  102.0  5500.0   \n",
       "4     front    99.4  ...     136      mpfi  3.19    3.40   8.0  115.0  5500.0   \n",
       "..      ...     ...  ...     ...       ...   ...     ...   ...    ...     ...   \n",
       "200   front   109.1  ...     141      mpfi  3.78    3.15   9.5  114.0  5400.0   \n",
       "201   front   109.1  ...     141      mpfi  3.78    3.15   8.7  160.0  5300.0   \n",
       "202   front   109.1  ...     173      mpfi  3.58    2.87   8.8  134.0  5500.0   \n",
       "203   front   109.1  ...     145       idi  3.01    3.40  23.0  106.0  4800.0   \n",
       "204   front   109.1  ...     141      mpfi  3.78    3.15   9.5  114.0  5400.0   \n",
       "\n",
       "    c_mpg  h_mpg    price  \n",
       "0      21     27  13495.0  \n",
       "1      21     27  16500.0  \n",
       "2      19     26  16500.0  \n",
       "3      24     30  13950.0  \n",
       "4      18     22  17450.0  \n",
       "..    ...    ...      ...  \n",
       "200    23     28  16845.0  \n",
       "201    19     25  19045.0  \n",
       "202    18     23  21485.0  \n",
       "203    26     27  22470.0  \n",
       "204    19     25  22625.0  \n",
       "\n",
       "[202 rows x 26 columns]"
      ]
     },
     "execution_count": 112,
     "metadata": {},
     "output_type": "execute_result"
    }
   ],
   "source": [
    "auto[(auto.h_mpg>LE) & (auto.h_mpg<UE)]"
   ]
  },
  {
   "cell_type": "code",
   "execution_count": 113,
   "id": "7cd0ea34",
   "metadata": {},
   "outputs": [
    {
     "name": "stderr",
     "output_type": "stream",
     "text": [
      "C:\\Users\\Jothy Natarajan\\AppData\\Local\\Temp/ipykernel_16404/3910588947.py:2: SettingWithCopyWarning: \n",
      "A value is trying to be set on a copy of a slice from a DataFrame\n",
      "\n",
      "See the caveats in the documentation: https://pandas.pydata.org/pandas-docs/stable/user_guide/indexing.html#returning-a-view-versus-a-copy\n",
      "  auto.h_mpg[auto.h_mpg>UE]=UE\n",
      "C:\\Users\\Jothy Natarajan\\AppData\\Local\\Temp/ipykernel_16404/3910588947.py:3: SettingWithCopyWarning: \n",
      "A value is trying to be set on a copy of a slice from a DataFrame\n",
      "\n",
      "See the caveats in the documentation: https://pandas.pydata.org/pandas-docs/stable/user_guide/indexing.html#returning-a-view-versus-a-copy\n",
      "  auto.h_mpg[auto.h_mpg<LE]=LE\n"
     ]
    }
   ],
   "source": [
    "#capping\n",
    "auto.h_mpg[auto.h_mpg>UE]=UE\n",
    "auto.h_mpg[auto.h_mpg<LE]=LE"
   ]
  },
  {
   "cell_type": "code",
   "execution_count": 114,
   "id": "4a1f3aae",
   "metadata": {},
   "outputs": [
    {
     "data": {
      "text/plain": [
       "{'whiskers': [<matplotlib.lines.Line2D at 0x1abc9d63820>,\n",
       "  <matplotlib.lines.Line2D at 0x1abc9d63bb0>],\n",
       " 'caps': [<matplotlib.lines.Line2D at 0x1abc9d63f40>,\n",
       "  <matplotlib.lines.Line2D at 0x1abc9d70310>],\n",
       " 'boxes': [<matplotlib.lines.Line2D at 0x1abc9d63490>],\n",
       " 'medians': [<matplotlib.lines.Line2D at 0x1abc9d706d0>],\n",
       " 'fliers': [<matplotlib.lines.Line2D at 0x1abc9d70a60>],\n",
       " 'means': []}"
      ]
     },
     "execution_count": 114,
     "metadata": {},
     "output_type": "execute_result"
    },
    {
     "data": {
      "image/png": "[encoded data removed]",
      "text/plain": [
       "<Figure size 432x288 with 1 Axes>"
      ]
     },
     "metadata": {
      "needs_background": "light"
     },
     "output_type": "display_data"
    }
   ],
   "source": [
    "plt.boxplot(auto.h_mpg)"
   ]
  },
  {
   "cell_type": "code",
   "execution_count": 115,
   "id": "39b3c7eb",
   "metadata": {},
   "outputs": [
    {
     "data": {
      "text/plain": [
       "(205,)"
      ]
     },
     "execution_count": 115,
     "metadata": {},
     "output_type": "execute_result"
    }
   ],
   "source": [
    "auto.h_mpg.shape"
   ]
  },
  {
   "cell_type": "markdown",
   "id": "52fb590f",
   "metadata": {},
   "source": [
    "<h1>COLUMN 26 - PRICE(Continuous)</h1>"
   ]
  },
  {
   "cell_type": "code",
   "execution_count": 116,
   "id": "00cf9b17",
   "metadata": {},
   "outputs": [
    {
     "data": {
      "text/plain": [
       "count      201.000000\n",
       "mean     13207.129353\n",
       "std       7947.066342\n",
       "min       5118.000000\n",
       "25%       7775.000000\n",
       "50%      10295.000000\n",
       "75%      16500.000000\n",
       "max      45400.000000\n",
       "Name: price, dtype: float64"
      ]
     },
     "execution_count": 116,
     "metadata": {},
     "output_type": "execute_result"
    }
   ],
   "source": [
    "auto.price.describe()"
   ]
  },
  {
   "cell_type": "code",
   "execution_count": 117,
   "id": "be3c28ca",
   "metadata": {},
   "outputs": [
    {
     "data": {
      "text/plain": [
       "<AxesSubplot:>"
      ]
     },
     "execution_count": 117,
     "metadata": {},
     "output_type": "execute_result"
    },
    {
     "data": {
      "image/png": "[encoded data removed]",
      "text/plain": [
       "<Figure size 432x288 with 1 Axes>"
      ]
     },
     "metadata": {
      "needs_background": "light"
     },
     "output_type": "display_data"
    }
   ],
   "source": [
    "auto.price.hist()"
   ]
  },
  {
   "cell_type": "code",
   "execution_count": 118,
   "id": "ff967509",
   "metadata": {},
   "outputs": [],
   "source": [
    "auto.price.fillna(inplace=True)"
   ]
  },
  {
   "cell_type": "code",
   "execution_count": 119,
   "id": "ded2630b",
   "metadata": {},
   "outputs": [
    {
     "data": {
      "text/plain": [
       "0"
      ]
     },
     "execution_count": 119,
     "metadata": {},
     "output_type": "execute_result"
    }
   ],
   "source": [
    "auto.price.isnull().sum()"
   ]
  },
  {
   "cell_type": "markdown",
   "id": "e4852b17",
   "metadata": {},
   "source": [
    "<h3>It is not normally distributed and it has outliers</h3><br><h3> -------------------------------------------------------<br>* It has 4 null attributes.<br>* Filling the null values with their median</h3>"
   ]
  },
  {
   "cell_type": "code",
   "execution_count": 120,
   "id": "a30ed589",
   "metadata": {},
   "outputs": [
    {
     "data": {
      "text/plain": [
       "ShapiroResult(statistic=0.800327479839325, pvalue=3.161288318929501e-15)"
      ]
     },
     "execution_count": 120,
     "metadata": {},
     "output_type": "execute_result"
    }
   ],
   "source": [
    "stats.shapiro(auto.price)"
   ]
  },
  {
   "cell_type": "code",
   "execution_count": 121,
   "id": "a93bb394",
   "metadata": {},
   "outputs": [
    {
     "data": {
      "text/plain": [
       "{'whiskers': [<matplotlib.lines.Line2D at 0x1abc9e663a0>,\n",
       "  <matplotlib.lines.Line2D at 0x1abc9e66730>],\n",
       " 'caps': [<matplotlib.lines.Line2D at 0x1abc9e66ac0>,\n",
       "  <matplotlib.lines.Line2D at 0x1abc9e66e50>],\n",
       " 'boxes': [<matplotlib.lines.Line2D at 0x1abc9e55fa0>],\n",
       " 'medians': [<matplotlib.lines.Line2D at 0x1abc9e70220>],\n",
       " 'fliers': [<matplotlib.lines.Line2D at 0x1abc9e705b0>],\n",
       " 'means': []}"
      ]
     },
     "execution_count": 121,
     "metadata": {},
     "output_type": "execute_result"
    },
    {
     "data": {
      "image/png": "[encoded data removed]",
      "text/plain": [
       "<Figure size 432x288 with 1 Axes>"
      ]
     },
     "metadata": {
      "needs_background": "light"
     },
     "output_type": "display_data"
    }
   ],
   "source": [
    "plt.boxplot(auto.price)"
   ]
  },
  {
   "cell_type": "code",
   "execution_count": 122,
   "id": "d66012ae",
   "metadata": {},
   "outputs": [
    {
     "data": {
      "text/plain": [
       "(199, 26)"
      ]
     },
     "execution_count": 122,
     "metadata": {},
     "output_type": "execute_result"
    }
   ],
   "source": [
    "auto.shape"
   ]
  },
  {
   "cell_type": "markdown",
   "id": "11f4aa62",
   "metadata": {},
   "source": [
    "<h2> Performing Hypothesis Test for Symboling and Price</h2>"
   ]
  },
  {
   "cell_type": "markdown",
   "id": "4a92feeb",
   "metadata": {},
   "source": [
    "<h3>STEPS:<br>\n",
    "1.x=Symboling(discrete) and y=price(continuous)<br>\n",
    "    \n",
    "2. C.I=95% and alpha=0.05<br>\n",
    "    \n",
    "3.Test choosen= F_oneway ANOVA<br>\n",
    "    \n",
    "4.Framing hypothesis:<br>\n",
    "    H0=> mean(-1)=mean(0)=mean(1)=mean(2)=mean(3)<br>\n",
    "    \n",
    "    H1=> mean(-1)!=mean(0)!=mean(1)!=mean(2)!=mean(3)<br>\n",
    "    \n",
    "5.Perform test</h3>"
   ]
  },
  {
   "cell_type": "code",
   "execution_count": 123,
   "id": "82e00f95",
   "metadata": {},
   "outputs": [],
   "source": [
    "lesser_equal_neg_one=auto.price[auto.symbol==\">=-1\"]\n",
    "zero=auto.price[auto.symbol==0]\n",
    "one=auto.price[auto.symbol==1]\n",
    "two=auto.price[auto.symbol==2]\n",
    "three=auto.price[auto.symbol==3]"
   ]
  },
  {
   "cell_type": "code",
   "execution_count": 124,
   "id": "88435d76",
   "metadata": {},
   "outputs": [
    {
     "data": {
      "text/plain": [
       "F_onewayResult(statistic=8.433813868999867, pvalue=2.708172730112253e-06)"
      ]
     },
     "execution_count": 124,
     "metadata": {},
     "output_type": "execute_result"
    }
   ],
   "source": [
    "from  scipy.stats import f_oneway  # one way ANOVA\n",
    "f_oneway(lesser_equal_neg_one,zero,one,two,three)"
   ]
  },
  {
   "cell_type": "markdown",
   "id": "8e6e23e7",
   "metadata": {},
   "source": [
    "<h3>6.pvalue=0.000<br>\n",
    "    \n",
    "7.p is lesser than alpha<br>\n",
    "    \n",
    "8.null hypothesis is rejected<br>\n",
    "    \n",
    "9.We conclude that symboling does not affect the price of the car</h3>"
   ]
  },
  {
   "cell_type": "markdown",
   "id": "411bd573",
   "metadata": {},
   "source": [
    "<h2>Performing Multi Linear Regression</h2><br>\n",
    "\n",
    "<h3>1.Drop the discrete columns <br>\n",
    "    \n",
    "2.Perform pearson r and find the correlation between the variables\n",
    "   y=price and x= continuous datas</h3>"
   ]
  },
  {
   "cell_type": "code",
   "execution_count": 125,
   "id": "ccaefdd0",
   "metadata": {},
   "outputs": [
    {
     "data": {
      "text/plain": [
       "(0.09688627470983717, 0.1734050294560938)"
      ]
     },
     "execution_count": 125,
     "metadata": {},
     "output_type": "execute_result"
    }
   ],
   "source": [
    "#nomalized losses and price\n",
    "stats.pearsonr(auto.nor_loss,auto.price)"
   ]
  },
  {
   "cell_type": "code",
   "execution_count": 126,
   "id": "3734e140",
   "metadata": {},
   "outputs": [
    {
     "data": {
      "text/plain": [
       "(0.583841669953256, 1.420096084799232e-19)"
      ]
     },
     "execution_count": 126,
     "metadata": {},
     "output_type": "execute_result"
    }
   ],
   "source": [
    "#wheel base and price\n",
    "stats.pearsonr(auto.w_base,auto.price)"
   ]
  },
  {
   "cell_type": "code",
   "execution_count": 127,
   "id": "5cacf346",
   "metadata": {},
   "outputs": [
    {
     "data": {
      "text/plain": [
       "(0.6912065018980801, 1.323962094671528e-29)"
      ]
     },
     "execution_count": 127,
     "metadata": {},
     "output_type": "execute_result"
    }
   ],
   "source": [
    "#length and price\n",
    "stats.pearsonr(auto.len,auto.price)"
   ]
  },
  {
   "cell_type": "code",
   "execution_count": 128,
   "id": "8e412688",
   "metadata": {},
   "outputs": [
    {
     "data": {
      "text/plain": [
       "(0.751628108086593, 1.8754545226142642e-37)"
      ]
     },
     "execution_count": 128,
     "metadata": {},
     "output_type": "execute_result"
    }
   ],
   "source": [
    "stats.pearsonr(auto.wid,auto.price)"
   ]
  },
  {
   "cell_type": "code",
   "execution_count": 129,
   "id": "a64a9851",
   "metadata": {},
   "outputs": [
    {
     "data": {
      "text/plain": [
       "(0.1336387806975614, 0.059865831554287235)"
      ]
     },
     "execution_count": 129,
     "metadata": {},
     "output_type": "execute_result"
    }
   ],
   "source": [
    "stats.pearsonr(auto.ht,auto.price)"
   ]
  },
  {
   "cell_type": "code",
   "execution_count": 130,
   "id": "6b9833c7",
   "metadata": {},
   "outputs": [
    {
     "data": {
      "text/plain": [
       "(0.8340594476291079, 8.781207356676491e-53)"
      ]
     },
     "execution_count": 130,
     "metadata": {},
     "output_type": "execute_result"
    }
   ],
   "source": [
    "stats.pearsonr(auto.c_wht,auto.price)"
   ]
  },
  {
   "cell_type": "code",
   "execution_count": 131,
   "id": "9de2a171",
   "metadata": {},
   "outputs": [
    {
     "data": {
      "text/plain": [
       "(0.8721521999503734, 4.443948756998532e-63)"
      ]
     },
     "execution_count": 131,
     "metadata": {},
     "output_type": "execute_result"
    }
   ],
   "source": [
    "stats.pearsonr(auto.e_size,auto.price)"
   ]
  },
  {
   "cell_type": "code",
   "execution_count": 132,
   "id": "d6217c90",
   "metadata": {},
   "outputs": [
    {
     "data": {
      "text/plain": [
       "(0.5425644274024172, 1.256276884088304e-16)"
      ]
     },
     "execution_count": 132,
     "metadata": {},
     "output_type": "execute_result"
    }
   ],
   "source": [
    "stats.pearsonr(auto.bore,auto.price)"
   ]
  },
  {
   "cell_type": "code",
   "execution_count": 133,
   "id": "7c71e0a6",
   "metadata": {},
   "outputs": [
    {
     "data": {
      "text/plain": [
       "(0.08425617138590913, 0.23673104466637607)"
      ]
     },
     "execution_count": 133,
     "metadata": {},
     "output_type": "execute_result"
    }
   ],
   "source": [
    "stats.pearsonr(auto.stroke,auto.price)"
   ]
  },
  {
   "cell_type": "code",
   "execution_count": 134,
   "id": "fe431aa1",
   "metadata": {},
   "outputs": [
    {
     "data": {
      "text/plain": [
       "(0.07609485152895838, 0.28541349097348756)"
      ]
     },
     "execution_count": 134,
     "metadata": {},
     "output_type": "execute_result"
    }
   ],
   "source": [
    "stats.pearsonr(auto.cmp,auto.price)"
   ]
  },
  {
   "cell_type": "code",
   "execution_count": 135,
   "id": "212d63a3",
   "metadata": {},
   "outputs": [
    {
     "data": {
      "text/plain": [
       "(0.8119279313785578, 6.185027568551035e-48)"
      ]
     },
     "execution_count": 135,
     "metadata": {},
     "output_type": "execute_result"
    }
   ],
   "source": [
    "stats.pearsonr(auto.hpow,auto.price)"
   ]
  },
  {
   "cell_type": "code",
   "execution_count": 136,
   "id": "ce7b7c95",
   "metadata": {},
   "outputs": [
    {
     "data": {
      "text/plain": [
       "(-0.10198613083601528, 0.1517526128933546)"
      ]
     },
     "execution_count": 136,
     "metadata": {},
     "output_type": "execute_result"
    }
   ],
   "source": [
    "stats.pearsonr(auto.rmp,auto.price)"
   ]
  },
  {
   "cell_type": "code",
   "execution_count": 137,
   "id": "3263783f",
   "metadata": {},
   "outputs": [
    {
     "data": {
      "text/plain": [
       "(-0.6902623876759875, 1.694964947834805e-29)"
      ]
     },
     "execution_count": 137,
     "metadata": {},
     "output_type": "execute_result"
    }
   ],
   "source": [
    "stats.pearsonr(auto.c_mpg,auto.price)"
   ]
  },
  {
   "cell_type": "code",
   "execution_count": 138,
   "id": "cdb79703",
   "metadata": {},
   "outputs": [
    {
     "data": {
      "text/plain": [
       "(-0.7212333609459113, 3.0235980373993126e-33)"
      ]
     },
     "execution_count": 138,
     "metadata": {},
     "output_type": "execute_result"
    }
   ],
   "source": [
    "stats.pearsonr(auto.h_mpg,auto.price)"
   ]
  },
  {
   "cell_type": "markdown",
   "id": "0d35b98e",
   "metadata": {},
   "source": [
    "<h3>Here,\n",
    "    horsepower,engine size,curb weight, and width has positive medium corrln<br>\n",
    "    whereas other variables have weak correlation with price</h3>"
   ]
  },
  {
   "cell_type": "code",
   "execution_count": 139,
   "id": "f3a0947e",
   "metadata": {},
   "outputs": [],
   "source": [
    "X=auto[['hpow','c_wht','e_size','wid']]\n",
    "Y=auto.price"
   ]
  },
  {
   "cell_type": "code",
   "execution_count": 140,
   "id": "3141e201",
   "metadata": {},
   "outputs": [
    {
     "name": "stderr",
     "output_type": "stream",
     "text": [
      "C:\\Users\\Jothy Natarajan\\anaconda3\\lib\\site-packages\\statsmodels\\tsa\\tsatools.py:142: FutureWarning: In a future version of pandas all arguments of concat except for the argument 'objs' will be keyword-only\n",
      "  x = pd.concat(x[::order], 1)\n"
     ]
    }
   ],
   "source": [
    "train_x=X.iloc[:162]\n",
    "train_y=Y.iloc[:162]\n",
    "train_xcon=sm.add_constant(train_x)\n",
    "\n",
    "test_x=X.iloc[162: ]\n",
    "test_y=Y.iloc[162: ]\n",
    "test_xcon=sm.add_constant(test_x)"
   ]
  },
  {
   "cell_type": "code",
   "execution_count": 141,
   "id": "24709b6b",
   "metadata": {},
   "outputs": [
    {
     "data": {
      "text/html": [
       "<table class=\"simpletable\">\n",
       "<caption>OLS Regression Results</caption>\n",
       "<tr>\n",
       "  <th>Dep. Variable:</th>          <td>price</td>      <th>  R-squared:         </th> <td>   0.837</td>\n",
       "</tr>\n",
       "<tr>\n",
       "  <th>Model:</th>                   <td>OLS</td>       <th>  Adj. R-squared:    </th> <td>   0.833</td>\n",
       "</tr>\n",
       "<tr>\n",
       "  <th>Method:</th>             <td>Least Squares</td>  <th>  F-statistic:       </th> <td>   201.5</td>\n",
       "</tr>\n",
       "<tr>\n",
       "  <th>Date:</th>             <td>Mon, 04 Apr 2022</td> <th>  Prob (F-statistic):</th> <td>9.59e-61</td>\n",
       "</tr>\n",
       "<tr>\n",
       "  <th>Time:</th>                 <td>11:21:08</td>     <th>  Log-Likelihood:    </th> <td> -1550.3</td>\n",
       "</tr>\n",
       "<tr>\n",
       "  <th>No. Observations:</th>      <td>   162</td>      <th>  AIC:               </th> <td>   3111.</td>\n",
       "</tr>\n",
       "<tr>\n",
       "  <th>Df Residuals:</th>          <td>   157</td>      <th>  BIC:               </th> <td>   3126.</td>\n",
       "</tr>\n",
       "<tr>\n",
       "  <th>Df Model:</th>              <td>     4</td>      <th>                     </th>     <td> </td>   \n",
       "</tr>\n",
       "<tr>\n",
       "  <th>Covariance Type:</th>      <td>nonrobust</td>    <th>                     </th>     <td> </td>   \n",
       "</tr>\n",
       "</table>\n",
       "<table class=\"simpletable\">\n",
       "<tr>\n",
       "     <td></td>       <th>coef</th>     <th>std err</th>      <th>t</th>      <th>P>|t|</th>  <th>[0.025</th>    <th>0.975]</th>  \n",
       "</tr>\n",
       "<tr>\n",
       "  <th>const</th>  <td>-4.697e+04</td> <td> 1.47e+04</td> <td>   -3.196</td> <td> 0.002</td> <td> -7.6e+04</td> <td>-1.79e+04</td>\n",
       "</tr>\n",
       "<tr>\n",
       "  <th>hpow</th>   <td>   64.6261</td> <td>   13.098</td> <td>    4.934</td> <td> 0.000</td> <td>   38.754</td> <td>   90.498</td>\n",
       "</tr>\n",
       "<tr>\n",
       "  <th>c_wht</th>  <td>    1.6934</td> <td>    1.368</td> <td>    1.238</td> <td> 0.218</td> <td>   -1.009</td> <td>    4.396</td>\n",
       "</tr>\n",
       "<tr>\n",
       "  <th>e_size</th> <td>   84.0379</td> <td>   14.218</td> <td>    5.911</td> <td> 0.000</td> <td>   55.954</td> <td>  112.121</td>\n",
       "</tr>\n",
       "<tr>\n",
       "  <th>wid</th>    <td>  588.6418</td> <td>  257.971</td> <td>    2.282</td> <td> 0.024</td> <td>   79.100</td> <td> 1098.183</td>\n",
       "</tr>\n",
       "</table>\n",
       "<table class=\"simpletable\">\n",
       "<tr>\n",
       "  <th>Omnibus:</th>       <td>11.432</td> <th>  Durbin-Watson:     </th> <td>   0.799</td>\n",
       "</tr>\n",
       "<tr>\n",
       "  <th>Prob(Omnibus):</th> <td> 0.003</td> <th>  Jarque-Bera (JB):  </th> <td>  24.178</td>\n",
       "</tr>\n",
       "<tr>\n",
       "  <th>Skew:</th>          <td> 0.224</td> <th>  Prob(JB):          </th> <td>5.62e-06</td>\n",
       "</tr>\n",
       "<tr>\n",
       "  <th>Kurtosis:</th>      <td> 4.839</td> <th>  Cond. No.          </th> <td>1.38e+05</td>\n",
       "</tr>\n",
       "</table><br/><br/>Notes:<br/>[1] Standard Errors assume that the covariance matrix of the errors is correctly specified.<br/>[2] The condition number is large, 1.38e+05. This might indicate that there are<br/>strong multicollinearity or other numerical problems."
      ],
      "text/plain": [
       "<class 'statsmodels.iolib.summary.Summary'>\n",
       "\"\"\"\n",
       "                            OLS Regression Results                            \n",
       "==============================================================================\n",
       "Dep. Variable:                  price   R-squared:                       0.837\n",
       "Model:                            OLS   Adj. R-squared:                  0.833\n",
       "Method:                 Least Squares   F-statistic:                     201.5\n",
       "Date:                Mon, 04 Apr 2022   Prob (F-statistic):           9.59e-61\n",
       "Time:                        11:21:08   Log-Likelihood:                -1550.3\n",
       "No. Observations:                 162   AIC:                             3111.\n",
       "Df Residuals:                     157   BIC:                             3126.\n",
       "Df Model:                           4                                         \n",
       "Covariance Type:            nonrobust                                         \n",
       "==============================================================================\n",
       "                 coef    std err          t      P>|t|      [0.025      0.975]\n",
       "------------------------------------------------------------------------------\n",
       "const      -4.697e+04   1.47e+04     -3.196      0.002    -7.6e+04   -1.79e+04\n",
       "hpow          64.6261     13.098      4.934      0.000      38.754      90.498\n",
       "c_wht          1.6934      1.368      1.238      0.218      -1.009       4.396\n",
       "e_size        84.0379     14.218      5.911      0.000      55.954     112.121\n",
       "wid          588.6418    257.971      2.282      0.024      79.100    1098.183\n",
       "==============================================================================\n",
       "Omnibus:                       11.432   Durbin-Watson:                   0.799\n",
       "Prob(Omnibus):                  0.003   Jarque-Bera (JB):               24.178\n",
       "Skew:                           0.224   Prob(JB):                     5.62e-06\n",
       "Kurtosis:                       4.839   Cond. No.                     1.38e+05\n",
       "==============================================================================\n",
       "\n",
       "Notes:\n",
       "[1] Standard Errors assume that the covariance matrix of the errors is correctly specified.\n",
       "[2] The condition number is large, 1.38e+05. This might indicate that there are\n",
       "strong multicollinearity or other numerical problems.\n",
       "\"\"\""
      ]
     },
     "execution_count": 141,
     "metadata": {},
     "output_type": "execute_result"
    }
   ],
   "source": [
    "model=sm.OLS(train_y,train_xcon).fit()\n",
    "model.summary()"
   ]
  },
  {
   "cell_type": "code",
   "execution_count": 142,
   "id": "c2568fb9",
   "metadata": {},
   "outputs": [],
   "source": [
    "predicted_test_y=model.predict(test_xcon)"
   ]
  },
  {
   "cell_type": "code",
   "execution_count": null,
   "id": "fd32037d",
   "metadata": {},
   "outputs": [],
   "source": []
  }
 ],
 "metadata": {
  "kernelspec": {
   "display_name": "Python 3 (ipykernel)",
   "language": "python",
   "name": "python3"
  },
  "language_info": {
   "codemirror_mode": {
    "name": "ipython",
    "version": 3
   },
   "file_extension": ".py",
   "mimetype": "text/x-python",
   "name": "python",
   "nbconvert_exporter": "python",
   "pygments_lexer": "ipython3",
   "version": "3.9.7"
  }
 },
 "nbformat": 4,
 "nbformat_minor": 5
}
